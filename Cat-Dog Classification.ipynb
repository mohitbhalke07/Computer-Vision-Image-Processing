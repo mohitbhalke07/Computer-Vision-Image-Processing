{
 "cells": [
  {
   "cell_type": "code",
   "execution_count": 1,
   "id": "986d5f4b",
   "metadata": {},
   "outputs": [],
   "source": [
    "import numpy as np\n",
    "import os\n",
    "import itertools\n",
    "import glob\n",
    "import random\n",
    "import shutil\n",
    "from sklearn.utils import shuffle\n",
    "import matplotlib.pyplot as plt\n",
    "\n",
    "from tensorflow.keras.preprocessing.image import ImageDataGenerator\n",
    "import tensorflow as tf\n",
    "from tensorflow import keras\n",
    "from tensorflow.keras.models import Sequential\n",
    "from tensorflow.keras.layers import Activation, Dense, Flatten, BatchNormalization, Conv2D, MaxPool2D\n",
    "from tensorflow.keras.optimizers import Adam\n",
    "from tensorflow.keras import layers\n",
    "\n",
    "from tensorflow.keras.metrics import categorical_crossentropy\n",
    "from sklearn.metrics import plot_confusion_matrix, confusion_matrix"
   ]
  },
  {
   "cell_type": "code",
   "execution_count": 2,
   "id": "1db81a89",
   "metadata": {},
   "outputs": [],
   "source": [
    "# Creating train,test,validation floders for 2 classes\n",
    "\n",
    "os.chdir(\"C:/Users/mohit/Computer Vision-Image Processing/Classification Cat-Dog/cat-dog datatset\")\n",
    "\n",
    "if os.path.isdir(\"train/dog\") is False:\n",
    "    os.makedirs(\"train/dog\")\n",
    "    os.makedirs(\"train/cat\")\n",
    "    os.makedirs(\"valid/dog\")\n",
    "    os.makedirs(\"valid/cat\")\n",
    "    os.makedirs(\"test/dog\")\n",
    "    os.makedirs(\"test/cat\")\n",
    "    \n",
    "    for c in random.sample(glob.glob(\"cat*\"), 200):\n",
    "        shutil.move(c, \"train/cat\")\n",
    "    for c in random.sample(glob.glob(\"dog*\"), 200):\n",
    "        shutil.move(c, \"train/dog\")\n",
    "    for c in random.sample(glob.glob(\"cat*\"), 100):\n",
    "        shutil.move(c, \"valid/cat\")\n",
    "    for c in random.sample(glob.glob(\"dog*\"), 100):\n",
    "        shutil.move(c, \"valid/dog\")\n",
    "    for c in random.sample(glob.glob(\"cat*\"), 50):\n",
    "        shutil.move(c, \"test/cat\")\n",
    "    for c in random.sample(glob.glob(\"dog*\"), 50):\n",
    "        shutil.move(c, \"test/dog\")\n",
    "\n",
    "os.chdir(\"../../\")"
   ]
  },
  {
   "cell_type": "code",
   "execution_count": 7,
   "id": "3bafc6ad",
   "metadata": {},
   "outputs": [],
   "source": [
    "train_path = \"C:/Users/mohit/Computer Vision-Image Processing/Classification Cat-Dog/cat-dog datatset/train\"\n",
    "test_path = \"C:/Users/mohit/Computer Vision-Image Processing/Classification Cat-Dog/cat-dog datatset/test\"\n",
    "valid_path = \"C:/Users/mohit/Computer Vision-Image Processing/Classification Cat-Dog/cat-dog datatset/valid\""
   ]
  },
  {
   "cell_type": "code",
   "execution_count": 8,
   "id": "3471e635",
   "metadata": {},
   "outputs": [
    {
     "name": "stdout",
     "output_type": "stream",
     "text": [
      "Found 400 images belonging to 2 classes.\n",
      "Found 100 images belonging to 2 classes.\n",
      "Found 200 images belonging to 2 classes.\n"
     ]
    }
   ],
   "source": [
    "# Preprocessing the Images\n",
    "\n",
    "train_batches = ImageDataGenerator(preprocessing_function=tf.keras.applications.vgg16.preprocess_input).flow_from_directory(directory=train_path, target_size=(224,224), classes=[\"cat\", \"dog\"], batch_size=10)\n",
    "test_batches = ImageDataGenerator(preprocessing_function=tf.keras.applications.vgg16.preprocess_input).flow_from_directory(directory=test_path, target_size=(224,224), classes=[\"cat\", \"dog\"], batch_size=10, shuffle=False)\n",
    "valid_batches = ImageDataGenerator(preprocessing_function=tf.keras.applications.vgg16.preprocess_input).flow_from_directory(directory=valid_path, target_size=(224,224), classes=[\"cat\", \"dog\"], batch_size=10)"
   ]
  },
  {
   "cell_type": "code",
   "execution_count": null,
   "id": "9ae167dd",
   "metadata": {},
   "outputs": [],
   "source": []
  },
  {
   "cell_type": "markdown",
   "id": "123962ca",
   "metadata": {},
   "source": [
    "# Model Building"
   ]
  },
  {
   "cell_type": "markdown",
   "id": "4483b954",
   "metadata": {},
   "source": [
    "**CNN Model**"
   ]
  },
  {
   "cell_type": "code",
   "execution_count": 9,
   "id": "c7485514",
   "metadata": {},
   "outputs": [],
   "source": [
    "# Data Augmentation\n",
    "\n",
    "data_augmentation = keras.Sequential(\n",
    "  [\n",
    "    layers.experimental.preprocessing.RandomFlip(\"horizontal\",input_shape=(224,224,3)),\n",
    "    layers.experimental.preprocessing.RandomRotation(0.1),\n",
    "    layers.experimental.preprocessing.RandomZoom(0.1),\n",
    "  ]\n",
    ")"
   ]
  },
  {
   "cell_type": "code",
   "execution_count": 10,
   "id": "9e158554",
   "metadata": {},
   "outputs": [],
   "source": [
    "model1 = Sequential([\n",
    "  data_augmentation,\n",
    "  layers.Conv2D(16, (3,3), 1, padding='same', activation='relu'),\n",
    "  layers.MaxPooling2D(pool_size=(2,2), strides=2),\n",
    "  layers.Conv2D(32, (3,3), 1, padding='same', activation='relu'),\n",
    "  layers.MaxPooling2D(pool_size=(2,2), strides=2),\n",
    "  layers.Conv2D(64, (3,3), 1, padding='same', activation='relu'),\n",
    "  layers.MaxPooling2D(pool_size=(2,2), strides=2),\n",
    "  layers.Dropout(0.2),\n",
    "  layers.Flatten(),\n",
    "  layers.Dense(256, activation='relu'),\n",
    "  layers.Dense(2, activation='softmax')\n",
    "])"
   ]
  },
  {
   "cell_type": "code",
   "execution_count": 11,
   "id": "b512a59a",
   "metadata": {},
   "outputs": [
    {
     "name": "stdout",
     "output_type": "stream",
     "text": [
      "Model: \"sequential_1\"\n",
      "_________________________________________________________________\n",
      "Layer (type)                 Output Shape              Param #   \n",
      "=================================================================\n",
      "sequential (Sequential)      (None, 224, 224, 3)       0         \n",
      "_________________________________________________________________\n",
      "conv2d (Conv2D)              (None, 224, 224, 16)      448       \n",
      "_________________________________________________________________\n",
      "max_pooling2d (MaxPooling2D) (None, 112, 112, 16)      0         \n",
      "_________________________________________________________________\n",
      "conv2d_1 (Conv2D)            (None, 112, 112, 32)      4640      \n",
      "_________________________________________________________________\n",
      "max_pooling2d_1 (MaxPooling2 (None, 56, 56, 32)        0         \n",
      "_________________________________________________________________\n",
      "conv2d_2 (Conv2D)            (None, 56, 56, 64)        18496     \n",
      "_________________________________________________________________\n",
      "max_pooling2d_2 (MaxPooling2 (None, 28, 28, 64)        0         \n",
      "_________________________________________________________________\n",
      "dropout (Dropout)            (None, 28, 28, 64)        0         \n",
      "_________________________________________________________________\n",
      "flatten (Flatten)            (None, 50176)             0         \n",
      "_________________________________________________________________\n",
      "dense (Dense)                (None, 256)               12845312  \n",
      "_________________________________________________________________\n",
      "dense_1 (Dense)              (None, 2)                 514       \n",
      "=================================================================\n",
      "Total params: 12,869,410\n",
      "Trainable params: 12,869,410\n",
      "Non-trainable params: 0\n",
      "_________________________________________________________________\n"
     ]
    }
   ],
   "source": [
    "model1.summary()"
   ]
  },
  {
   "cell_type": "code",
   "execution_count": 12,
   "id": "d43e91a6",
   "metadata": {},
   "outputs": [],
   "source": [
    "model1.compile(optimizer=Adam(learning_rate=0.0001), loss=\"categorical_crossentropy\", metrics=[\"accuracy\"])"
   ]
  },
  {
   "cell_type": "code",
   "execution_count": 13,
   "id": "c0a94046",
   "metadata": {
    "scrolled": true
   },
   "outputs": [
    {
     "name": "stdout",
     "output_type": "stream",
     "text": [
      "Epoch 1/20\n",
      "40/40 [==============================] - 13s 84ms/step - loss: 11.6784 - accuracy: 0.5275 - val_loss: 1.5529 - val_accuracy: 0.5600\n",
      "Epoch 2/20\n",
      "40/40 [==============================] - 2s 56ms/step - loss: 1.7915 - accuracy: 0.5800 - val_loss: 2.7958 - val_accuracy: 0.5000\n",
      "Epoch 3/20\n",
      "40/40 [==============================] - 2s 43ms/step - loss: 1.2057 - accuracy: 0.6400 - val_loss: 1.8136 - val_accuracy: 0.5400\n",
      "Epoch 4/20\n",
      "40/40 [==============================] - 2s 41ms/step - loss: 1.0980 - accuracy: 0.5950 - val_loss: 0.8965 - val_accuracy: 0.5750\n",
      "Epoch 5/20\n",
      "40/40 [==============================] - 2s 48ms/step - loss: 0.7421 - accuracy: 0.6300 - val_loss: 0.8545 - val_accuracy: 0.5800\n",
      "Epoch 6/20\n",
      "40/40 [==============================] - 2s 54ms/step - loss: 0.7774 - accuracy: 0.6600 - val_loss: 0.8814 - val_accuracy: 0.5800\n",
      "Epoch 7/20\n",
      "40/40 [==============================] - 2s 54ms/step - loss: 0.7398 - accuracy: 0.6900 - val_loss: 1.0199 - val_accuracy: 0.5950\n",
      "Epoch 8/20\n",
      "40/40 [==============================] - 2s 41ms/step - loss: 0.6278 - accuracy: 0.6700 - val_loss: 0.8720 - val_accuracy: 0.5450\n",
      "Epoch 9/20\n",
      "40/40 [==============================] - 2s 42ms/step - loss: 0.6656 - accuracy: 0.6650 - val_loss: 0.9861 - val_accuracy: 0.5600\n",
      "Epoch 10/20\n",
      "40/40 [==============================] - 2s 48ms/step - loss: 0.6587 - accuracy: 0.6900 - val_loss: 0.8768 - val_accuracy: 0.5800\n",
      "Epoch 11/20\n",
      "40/40 [==============================] - 2s 45ms/step - loss: 0.6787 - accuracy: 0.6900 - val_loss: 0.9410 - val_accuracy: 0.5950\n",
      "Epoch 12/20\n",
      "40/40 [==============================] - 3s 70ms/step - loss: 0.5801 - accuracy: 0.7100 - val_loss: 0.8104 - val_accuracy: 0.5900\n",
      "Epoch 13/20\n",
      "40/40 [==============================] - 2s 45ms/step - loss: 0.5561 - accuracy: 0.7200 - val_loss: 0.8112 - val_accuracy: 0.6200\n",
      "Epoch 14/20\n",
      "40/40 [==============================] - 2s 49ms/step - loss: 0.5541 - accuracy: 0.7175 - val_loss: 0.9090 - val_accuracy: 0.6150\n",
      "Epoch 15/20\n",
      "40/40 [==============================] - 2s 46ms/step - loss: 0.5575 - accuracy: 0.7300 - val_loss: 0.8635 - val_accuracy: 0.6100\n",
      "Epoch 16/20\n",
      "40/40 [==============================] - 2s 44ms/step - loss: 0.5255 - accuracy: 0.7375 - val_loss: 1.1052 - val_accuracy: 0.5650\n",
      "Epoch 17/20\n",
      "40/40 [==============================] - 2s 46ms/step - loss: 0.5554 - accuracy: 0.7450 - val_loss: 0.8267 - val_accuracy: 0.6250\n",
      "Epoch 18/20\n",
      "40/40 [==============================] - 2s 48ms/step - loss: 0.6019 - accuracy: 0.7050 - val_loss: 0.8925 - val_accuracy: 0.5750\n",
      "Epoch 19/20\n",
      "40/40 [==============================] - 2s 42ms/step - loss: 0.4882 - accuracy: 0.7600 - val_loss: 0.7939 - val_accuracy: 0.5950\n",
      "Epoch 20/20\n",
      "40/40 [==============================] - 2s 47ms/step - loss: 0.4603 - accuracy: 0.7700 - val_loss: 0.8927 - val_accuracy: 0.6100\n"
     ]
    }
   ],
   "source": [
    "hist1 = model1.fit(train_batches, validation_data=valid_batches, shuffle=True, batch_size=10 , epochs=20)"
   ]
  },
  {
   "cell_type": "code",
   "execution_count": 14,
   "id": "b53eb75e",
   "metadata": {},
   "outputs": [
    {
     "data": {
      "text/plain": [
       "[<matplotlib.lines.Line2D at 0x2364b675be0>]"
      ]
     },
     "execution_count": 14,
     "metadata": {},
     "output_type": "execute_result"
    },
    {
     "data": {
      "image/png": "[encoded data removed]",
      "text/plain": [
       "<Figure size 432x288 with 1 Axes>"
      ]
     },
     "metadata": {
      "needs_background": "light"
     },
     "output_type": "display_data"
    }
   ],
   "source": [
    "plt.plot(hist1.history[\"accuracy\"])\n",
    "plt.plot(hist1.history[\"val_accuracy\"])"
   ]
  },
  {
   "cell_type": "code",
   "execution_count": 15,
   "id": "819ca13d",
   "metadata": {},
   "outputs": [
    {
     "data": {
      "text/plain": [
       "[<matplotlib.lines.Line2D at 0x2364b72ee20>]"
      ]
     },
     "execution_count": 15,
     "metadata": {},
     "output_type": "execute_result"
    },
    {
     "data": {
      "image/png": "[encoded data removed]",
      "text/plain": [
       "<Figure size 432x288 with 1 Axes>"
      ]
     },
     "metadata": {
      "needs_background": "light"
     },
     "output_type": "display_data"
    }
   ],
   "source": [
    "plt.plot(hist1.history[\"loss\"])\n",
    "plt.plot(hist1.history[\"val_accuracy\"])"
   ]
  },
  {
   "cell_type": "code",
   "execution_count": 16,
   "id": "4d77b76b",
   "metadata": {},
   "outputs": [
    {
     "data": {
      "text/plain": [
       "{'cat': 0, 'dog': 1}"
      ]
     },
     "execution_count": 16,
     "metadata": {},
     "output_type": "execute_result"
    }
   ],
   "source": [
    "test_batches.class_indices"
   ]
  },
  {
   "cell_type": "code",
   "execution_count": 17,
   "id": "15802d23",
   "metadata": {},
   "outputs": [
    {
     "data": {
      "text/plain": [
       "[1, 1, 0, 0, 1, 1, 1, 0, 1, 0]"
      ]
     },
     "execution_count": 17,
     "metadata": {},
     "output_type": "execute_result"
    }
   ],
   "source": [
    "pred = model1.predict(test_batches)\n",
    "y_classes = [np.argmax(i) for i in pred]\n",
    "y_classes[:10]"
   ]
  },
  {
   "cell_type": "code",
   "execution_count": 18,
   "id": "1c31a967",
   "metadata": {},
   "outputs": [],
   "source": [
    "def plot_confusion_matrix(cm, classes,\n",
    "                          normalize=False,\n",
    "                          title='Confusion matrix',\n",
    "                          cmap=plt.cm.Blues):\n",
    "    \"\"\"\n",
    "    This function prints and plots the confusion matrix.\n",
    "    Normalization can be applied by setting `normalize=True`.\n",
    "    \"\"\"\n",
    "    plt.imshow(cm, interpolation='nearest', cmap=cmap)\n",
    "    plt.title(title)\n",
    "    plt.colorbar()\n",
    "    tick_marks = np.arange(len(classes))\n",
    "    plt.xticks(tick_marks, classes, rotation=45)\n",
    "    plt.yticks(tick_marks, classes)\n",
    "\n",
    "    if normalize:\n",
    "        cm = cm.astype('float') / cm.sum(axis=1)[:, np.newaxis]\n",
    "        print(\"Normalized confusion matrix\")\n",
    "    else:\n",
    "        print('Confusion matrix, without normalization')\n",
    "\n",
    "    print(cm)\n",
    "\n",
    "    thresh = cm.max() / 2.\n",
    "    for i, j in itertools.product(range(cm.shape[0]), range(cm.shape[1])):\n",
    "        plt.text(j, i, cm[i, j],\n",
    "                 horizontalalignment=\"center\",\n",
    "                 color=\"white\" if cm[i, j] > thresh else \"black\")\n",
    "\n",
    "    plt.tight_layout()\n",
    "    plt.ylabel('True label')\n",
    "    plt.xlabel('Predicted label')"
   ]
  },
  {
   "cell_type": "code",
   "execution_count": 19,
   "id": "95c3912b",
   "metadata": {},
   "outputs": [
    {
     "name": "stdout",
     "output_type": "stream",
     "text": [
      "Confusion matrix, without normalization\n",
      "[[22 28]\n",
      " [15 35]]\n"
     ]
    },
    {
     "data": {
      "image/png": "[encoded data removed]",
      "text/plain": [
       "<Figure size 432x288 with 2 Axes>"
      ]
     },
     "metadata": {
      "needs_background": "light"
     },
     "output_type": "display_data"
    }
   ],
   "source": [
    "cm = confusion_matrix(y_true=test_batches.classes, y_pred=np.argmax(pred, axis=1))\n",
    "plot_confusion_matrix(cm=cm, classes=[\"cat\",\"dogs\"])"
   ]
  },
  {
   "cell_type": "markdown",
   "id": "31135a60",
   "metadata": {},
   "source": [
    "**VGG16 Model**"
   ]
  },
  {
   "cell_type": "code",
   "execution_count": 23,
   "id": "8947eb39",
   "metadata": {},
   "outputs": [],
   "source": [
    "vgg16_model = tf.keras.applications.vgg16.VGG16()"
   ]
  },
  {
   "cell_type": "code",
   "execution_count": 24,
   "id": "a767355b",
   "metadata": {
    "scrolled": true
   },
   "outputs": [
    {
     "name": "stdout",
     "output_type": "stream",
     "text": [
      "Model: \"vgg16\"\n",
      "_________________________________________________________________\n",
      "Layer (type)                 Output Shape              Param #   \n",
      "=================================================================\n",
      "input_1 (InputLayer)         [(None, 224, 224, 3)]     0         \n",
      "_________________________________________________________________\n",
      "block1_conv1 (Conv2D)        (None, 224, 224, 64)      1792      \n",
      "_________________________________________________________________\n",
      "block1_conv2 (Conv2D)        (None, 224, 224, 64)      36928     \n",
      "_________________________________________________________________\n",
      "block1_pool (MaxPooling2D)   (None, 112, 112, 64)      0         \n",
      "_________________________________________________________________\n",
      "block2_conv1 (Conv2D)        (None, 112, 112, 128)     73856     \n",
      "_________________________________________________________________\n",
      "block2_conv2 (Conv2D)        (None, 112, 112, 128)     147584    \n",
      "_________________________________________________________________\n",
      "block2_pool (MaxPooling2D)   (None, 56, 56, 128)       0         \n",
      "_________________________________________________________________\n",
      "block3_conv1 (Conv2D)        (None, 56, 56, 256)       295168    \n",
      "_________________________________________________________________\n",
      "block3_conv2 (Conv2D)        (None, 56, 56, 256)       590080    \n",
      "_________________________________________________________________\n",
      "block3_conv3 (Conv2D)        (None, 56, 56, 256)       590080    \n",
      "_________________________________________________________________\n",
      "block3_pool (MaxPooling2D)   (None, 28, 28, 256)       0         \n",
      "_________________________________________________________________\n",
      "block4_conv1 (Conv2D)        (None, 28, 28, 512)       1180160   \n",
      "_________________________________________________________________\n",
      "block4_conv2 (Conv2D)        (None, 28, 28, 512)       2359808   \n",
      "_________________________________________________________________\n",
      "block4_conv3 (Conv2D)        (None, 28, 28, 512)       2359808   \n",
      "_________________________________________________________________\n",
      "block4_pool (MaxPooling2D)   (None, 14, 14, 512)       0         \n",
      "_________________________________________________________________\n",
      "block5_conv1 (Conv2D)        (None, 14, 14, 512)       2359808   \n",
      "_________________________________________________________________\n",
      "block5_conv2 (Conv2D)        (None, 14, 14, 512)       2359808   \n",
      "_________________________________________________________________\n",
      "block5_conv3 (Conv2D)        (None, 14, 14, 512)       2359808   \n",
      "_________________________________________________________________\n",
      "block5_pool (MaxPooling2D)   (None, 7, 7, 512)         0         \n",
      "_________________________________________________________________\n",
      "flatten (Flatten)            (None, 25088)             0         \n",
      "_________________________________________________________________\n",
      "fc1 (Dense)                  (None, 4096)              102764544 \n",
      "_________________________________________________________________\n",
      "fc2 (Dense)                  (None, 4096)              16781312  \n",
      "_________________________________________________________________\n",
      "predictions (Dense)          (None, 1000)              4097000   \n",
      "=================================================================\n",
      "Total params: 138,357,544\n",
      "Trainable params: 138,357,544\n",
      "Non-trainable params: 0\n",
      "_________________________________________________________________\n"
     ]
    }
   ],
   "source": [
    "vgg16_model.summary()"
   ]
  },
  {
   "cell_type": "code",
   "execution_count": 25,
   "id": "ceebbcdd",
   "metadata": {},
   "outputs": [],
   "source": [
    "model2 = Sequential()\n",
    "for layer in vgg16_model.layers[:-1]:\n",
    "    model2.add(layer)"
   ]
  },
  {
   "cell_type": "code",
   "execution_count": 26,
   "id": "27fb51d0",
   "metadata": {
    "scrolled": true
   },
   "outputs": [
    {
     "name": "stdout",
     "output_type": "stream",
     "text": [
      "Model: \"sequential_2\"\n",
      "_________________________________________________________________\n",
      "Layer (type)                 Output Shape              Param #   \n",
      "=================================================================\n",
      "block1_conv1 (Conv2D)        (None, 224, 224, 64)      1792      \n",
      "_________________________________________________________________\n",
      "block1_conv2 (Conv2D)        (None, 224, 224, 64)      36928     \n",
      "_________________________________________________________________\n",
      "block1_pool (MaxPooling2D)   (None, 112, 112, 64)      0         \n",
      "_________________________________________________________________\n",
      "block2_conv1 (Conv2D)        (None, 112, 112, 128)     73856     \n",
      "_________________________________________________________________\n",
      "block2_conv2 (Conv2D)        (None, 112, 112, 128)     147584    \n",
      "_________________________________________________________________\n",
      "block2_pool (MaxPooling2D)   (None, 56, 56, 128)       0         \n",
      "_________________________________________________________________\n",
      "block3_conv1 (Conv2D)        (None, 56, 56, 256)       295168    \n",
      "_________________________________________________________________\n",
      "block3_conv2 (Conv2D)        (None, 56, 56, 256)       590080    \n",
      "_________________________________________________________________\n",
      "block3_conv3 (Conv2D)        (None, 56, 56, 256)       590080    \n",
      "_________________________________________________________________\n",
      "block3_pool (MaxPooling2D)   (None, 28, 28, 256)       0         \n",
      "_________________________________________________________________\n",
      "block4_conv1 (Conv2D)        (None, 28, 28, 512)       1180160   \n",
      "_________________________________________________________________\n",
      "block4_conv2 (Conv2D)        (None, 28, 28, 512)       2359808   \n",
      "_________________________________________________________________\n",
      "block4_conv3 (Conv2D)        (None, 28, 28, 512)       2359808   \n",
      "_________________________________________________________________\n",
      "block4_pool (MaxPooling2D)   (None, 14, 14, 512)       0         \n",
      "_________________________________________________________________\n",
      "block5_conv1 (Conv2D)        (None, 14, 14, 512)       2359808   \n",
      "_________________________________________________________________\n",
      "block5_conv2 (Conv2D)        (None, 14, 14, 512)       2359808   \n",
      "_________________________________________________________________\n",
      "block5_conv3 (Conv2D)        (None, 14, 14, 512)       2359808   \n",
      "_________________________________________________________________\n",
      "block5_pool (MaxPooling2D)   (None, 7, 7, 512)         0         \n",
      "_________________________________________________________________\n",
      "flatten (Flatten)            (None, 25088)             0         \n",
      "_________________________________________________________________\n",
      "fc1 (Dense)                  (None, 4096)              102764544 \n",
      "_________________________________________________________________\n",
      "fc2 (Dense)                  (None, 4096)              16781312  \n",
      "=================================================================\n",
      "Total params: 134,260,544\n",
      "Trainable params: 134,260,544\n",
      "Non-trainable params: 0\n",
      "_________________________________________________________________\n"
     ]
    }
   ],
   "source": [
    "model2.summary()"
   ]
  },
  {
   "cell_type": "code",
   "execution_count": 28,
   "id": "f8daf6cf",
   "metadata": {},
   "outputs": [],
   "source": [
    "for layer in model2.layers:\n",
    "    layer.trainable = False"
   ]
  },
  {
   "cell_type": "code",
   "execution_count": 29,
   "id": "9d406fd5",
   "metadata": {},
   "outputs": [],
   "source": [
    "model2.add(Dense(units=2, activation=\"softmax\"))"
   ]
  },
  {
   "cell_type": "code",
   "execution_count": 30,
   "id": "30732666",
   "metadata": {
    "scrolled": true
   },
   "outputs": [
    {
     "name": "stdout",
     "output_type": "stream",
     "text": [
      "Model: \"sequential_2\"\n",
      "_________________________________________________________________\n",
      "Layer (type)                 Output Shape              Param #   \n",
      "=================================================================\n",
      "block1_conv1 (Conv2D)        (None, 224, 224, 64)      1792      \n",
      "_________________________________________________________________\n",
      "block1_conv2 (Conv2D)        (None, 224, 224, 64)      36928     \n",
      "_________________________________________________________________\n",
      "block1_pool (MaxPooling2D)   (None, 112, 112, 64)      0         \n",
      "_________________________________________________________________\n",
      "block2_conv1 (Conv2D)        (None, 112, 112, 128)     73856     \n",
      "_________________________________________________________________\n",
      "block2_conv2 (Conv2D)        (None, 112, 112, 128)     147584    \n",
      "_________________________________________________________________\n",
      "block2_pool (MaxPooling2D)   (None, 56, 56, 128)       0         \n",
      "_________________________________________________________________\n",
      "block3_conv1 (Conv2D)        (None, 56, 56, 256)       295168    \n",
      "_________________________________________________________________\n",
      "block3_conv2 (Conv2D)        (None, 56, 56, 256)       590080    \n",
      "_________________________________________________________________\n",
      "block3_conv3 (Conv2D)        (None, 56, 56, 256)       590080    \n",
      "_________________________________________________________________\n",
      "block3_pool (MaxPooling2D)   (None, 28, 28, 256)       0         \n",
      "_________________________________________________________________\n",
      "block4_conv1 (Conv2D)        (None, 28, 28, 512)       1180160   \n",
      "_________________________________________________________________\n",
      "block4_conv2 (Conv2D)        (None, 28, 28, 512)       2359808   \n",
      "_________________________________________________________________\n",
      "block4_conv3 (Conv2D)        (None, 28, 28, 512)       2359808   \n",
      "_________________________________________________________________\n",
      "block4_pool (MaxPooling2D)   (None, 14, 14, 512)       0         \n",
      "_________________________________________________________________\n",
      "block5_conv1 (Conv2D)        (None, 14, 14, 512)       2359808   \n",
      "_________________________________________________________________\n",
      "block5_conv2 (Conv2D)        (None, 14, 14, 512)       2359808   \n",
      "_________________________________________________________________\n",
      "block5_conv3 (Conv2D)        (None, 14, 14, 512)       2359808   \n",
      "_________________________________________________________________\n",
      "block5_pool (MaxPooling2D)   (None, 7, 7, 512)         0         \n",
      "_________________________________________________________________\n",
      "flatten (Flatten)            (None, 25088)             0         \n",
      "_________________________________________________________________\n",
      "fc1 (Dense)                  (None, 4096)              102764544 \n",
      "_________________________________________________________________\n",
      "fc2 (Dense)                  (None, 4096)              16781312  \n",
      "_________________________________________________________________\n",
      "dense_2 (Dense)              (None, 2)                 8194      \n",
      "=================================================================\n",
      "Total params: 134,268,738\n",
      "Trainable params: 8,194\n",
      "Non-trainable params: 134,260,544\n",
      "_________________________________________________________________\n"
     ]
    }
   ],
   "source": [
    "model2.summary()"
   ]
  },
  {
   "cell_type": "code",
   "execution_count": 31,
   "id": "b9912131",
   "metadata": {},
   "outputs": [],
   "source": [
    "model2.compile(optimizer=Adam(learning_rate=0.0001), loss=\"categorical_crossentropy\", metrics=[\"accuracy\"])"
   ]
  },
  {
   "cell_type": "code",
   "execution_count": 32,
   "id": "63e97ab4",
   "metadata": {
    "scrolled": true
   },
   "outputs": [
    {
     "name": "stdout",
     "output_type": "stream",
     "text": [
      "Epoch 1/30\n",
      "40/40 [==============================] - 13s 211ms/step - loss: 0.7210 - accuracy: 0.6925 - val_loss: 0.3013 - val_accuracy: 0.8850\n",
      "Epoch 2/30\n",
      "40/40 [==============================] - 8s 200ms/step - loss: 0.1768 - accuracy: 0.9350 - val_loss: 0.1847 - val_accuracy: 0.9200\n",
      "Epoch 3/30\n",
      "40/40 [==============================] - 8s 206ms/step - loss: 0.1054 - accuracy: 0.9625 - val_loss: 0.1546 - val_accuracy: 0.9350\n",
      "Epoch 4/30\n",
      "40/40 [==============================] - 8s 209ms/step - loss: 0.0728 - accuracy: 0.9725 - val_loss: 0.1410 - val_accuracy: 0.9500\n",
      "Epoch 5/30\n",
      "40/40 [==============================] - 8s 201ms/step - loss: 0.0528 - accuracy: 0.9800 - val_loss: 0.1277 - val_accuracy: 0.9550\n",
      "Epoch 6/30\n",
      "40/40 [==============================] - 8s 211ms/step - loss: 0.0406 - accuracy: 0.9900 - val_loss: 0.1206 - val_accuracy: 0.9550\n",
      "Epoch 7/30\n",
      "40/40 [==============================] - 8s 203ms/step - loss: 0.0316 - accuracy: 0.9900 - val_loss: 0.1163 - val_accuracy: 0.9550\n",
      "Epoch 8/30\n",
      "40/40 [==============================] - 8s 202ms/step - loss: 0.0256 - accuracy: 1.0000 - val_loss: 0.1113 - val_accuracy: 0.9600\n",
      "Epoch 9/30\n",
      "40/40 [==============================] - 8s 204ms/step - loss: 0.0211 - accuracy: 1.0000 - val_loss: 0.1121 - val_accuracy: 0.9650\n",
      "Epoch 10/30\n",
      "40/40 [==============================] - 8s 207ms/step - loss: 0.0180 - accuracy: 1.0000 - val_loss: 0.1078 - val_accuracy: 0.9600\n",
      "Epoch 11/30\n",
      "40/40 [==============================] - 8s 206ms/step - loss: 0.0151 - accuracy: 1.0000 - val_loss: 0.1069 - val_accuracy: 0.9600\n",
      "Epoch 12/30\n",
      "40/40 [==============================] - 8s 205ms/step - loss: 0.0131 - accuracy: 1.0000 - val_loss: 0.1058 - val_accuracy: 0.9700\n",
      "Epoch 13/30\n",
      "40/40 [==============================] - 8s 205ms/step - loss: 0.0115 - accuracy: 1.0000 - val_loss: 0.1048 - val_accuracy: 0.9700\n",
      "Epoch 14/30\n",
      "40/40 [==============================] - 8s 206ms/step - loss: 0.0102 - accuracy: 1.0000 - val_loss: 0.1039 - val_accuracy: 0.9700\n",
      "Epoch 15/30\n",
      "40/40 [==============================] - 8s 205ms/step - loss: 0.0092 - accuracy: 1.0000 - val_loss: 0.1034 - val_accuracy: 0.9700\n",
      "Epoch 16/30\n",
      "40/40 [==============================] - 8s 202ms/step - loss: 0.0082 - accuracy: 1.0000 - val_loss: 0.1037 - val_accuracy: 0.9700\n",
      "Epoch 17/30\n",
      "40/40 [==============================] - 8s 202ms/step - loss: 0.0075 - accuracy: 1.0000 - val_loss: 0.1034 - val_accuracy: 0.9700\n",
      "Epoch 18/30\n",
      "40/40 [==============================] - 9s 216ms/step - loss: 0.0067 - accuracy: 1.0000 - val_loss: 0.1019 - val_accuracy: 0.9700\n",
      "Epoch 19/30\n",
      "40/40 [==============================] - 9s 217ms/step - loss: 0.0062 - accuracy: 1.0000 - val_loss: 0.1020 - val_accuracy: 0.9700\n",
      "Epoch 20/30\n",
      "40/40 [==============================] - 8s 208ms/step - loss: 0.0057 - accuracy: 1.0000 - val_loss: 0.1020 - val_accuracy: 0.9700\n",
      "Epoch 21/30\n",
      "40/40 [==============================] - 8s 204ms/step - loss: 0.0053 - accuracy: 1.0000 - val_loss: 0.1020 - val_accuracy: 0.9700\n",
      "Epoch 22/30\n",
      "40/40 [==============================] - 8s 205ms/step - loss: 0.0049 - accuracy: 1.0000 - val_loss: 0.1026 - val_accuracy: 0.9700\n",
      "Epoch 23/30\n",
      "40/40 [==============================] - 8s 202ms/step - loss: 0.0045 - accuracy: 1.0000 - val_loss: 0.1013 - val_accuracy: 0.9700\n",
      "Epoch 24/30\n",
      "40/40 [==============================] - 8s 204ms/step - loss: 0.0042 - accuracy: 1.0000 - val_loss: 0.1018 - val_accuracy: 0.9700\n",
      "Epoch 25/30\n",
      "40/40 [==============================] - 8s 205ms/step - loss: 0.0040 - accuracy: 1.0000 - val_loss: 0.1012 - val_accuracy: 0.9700\n",
      "Epoch 26/30\n",
      "40/40 [==============================] - 8s 204ms/step - loss: 0.0037 - accuracy: 1.0000 - val_loss: 0.1021 - val_accuracy: 0.9700\n",
      "Epoch 27/30\n",
      "40/40 [==============================] - 8s 203ms/step - loss: 0.0035 - accuracy: 1.0000 - val_loss: 0.1014 - val_accuracy: 0.9700\n",
      "Epoch 28/30\n",
      "40/40 [==============================] - 8s 211ms/step - loss: 0.0033 - accuracy: 1.0000 - val_loss: 0.1021 - val_accuracy: 0.9700\n",
      "Epoch 29/30\n",
      "40/40 [==============================] - 8s 203ms/step - loss: 0.0031 - accuracy: 1.0000 - val_loss: 0.1021 - val_accuracy: 0.9700\n",
      "Epoch 30/30\n",
      "40/40 [==============================] - 8s 203ms/step - loss: 0.0029 - accuracy: 1.0000 - val_loss: 0.1016 - val_accuracy: 0.9700\n"
     ]
    }
   ],
   "source": [
    "hist2 = model2.fit(x=train_batches, validation_data=valid_batches, shuffle=True, batch_size=5 , epochs=30)"
   ]
  },
  {
   "cell_type": "code",
   "execution_count": 33,
   "id": "f9b81c7e",
   "metadata": {},
   "outputs": [
    {
     "data": {
      "text/plain": [
       "[<matplotlib.lines.Line2D at 0x236cf85af70>]"
      ]
     },
     "execution_count": 33,
     "metadata": {},
     "output_type": "execute_result"
    },
    {
     "data": {
      "image/png": "[encoded data removed]",
      "text/plain": [
       "<Figure size 432x288 with 1 Axes>"
      ]
     },
     "metadata": {
      "needs_background": "light"
     },
     "output_type": "display_data"
    }
   ],
   "source": [
    "plt.plot(hist2.history[\"accuracy\"])\n",
    "plt.plot(hist2.history[\"val_accuracy\"])"
   ]
  },
  {
   "cell_type": "code",
   "execution_count": 34,
   "id": "f93062dc",
   "metadata": {},
   "outputs": [
    {
     "data": {
      "text/plain": [
       "[<matplotlib.lines.Line2D at 0x236cf8cd760>]"
      ]
     },
     "execution_count": 34,
     "metadata": {},
     "output_type": "execute_result"
    },
    {
     "data": {
      "image/png": "[encoded data removed]",
      "text/plain": [
       "<Figure size 432x288 with 1 Axes>"
      ]
     },
     "metadata": {
      "needs_background": "light"
     },
     "output_type": "display_data"
    }
   ],
   "source": [
    "plt.plot(hist2.history[\"loss\"])\n",
    "plt.plot(hist2.history[\"val_accuracy\"])"
   ]
  },
  {
   "cell_type": "code",
   "execution_count": 35,
   "id": "2a91890f",
   "metadata": {},
   "outputs": [
    {
     "data": {
      "text/plain": [
       "[0, 0, 0, 0, 0, 0, 0, 0, 0, 0]"
      ]
     },
     "execution_count": 35,
     "metadata": {},
     "output_type": "execute_result"
    }
   ],
   "source": [
    "pred = model2.predict(test_batches)\n",
    "y_classes = [np.argmax(i) for i in pred]\n",
    "y_classes[:10]"
   ]
  },
  {
   "cell_type": "code",
   "execution_count": 36,
   "id": "c223391f",
   "metadata": {},
   "outputs": [],
   "source": [
    "def plot_confusion_matrix(cm, classes,\n",
    "                          normalize=False,\n",
    "                          title='Confusion matrix',\n",
    "                          cmap=plt.cm.Blues):\n",
    "    \"\"\"\n",
    "    This function prints and plots the confusion matrix.\n",
    "    Normalization can be applied by setting `normalize=True`.\n",
    "    \"\"\"\n",
    "    plt.imshow(cm, interpolation='nearest', cmap=cmap)\n",
    "    plt.title(title)\n",
    "    plt.colorbar()\n",
    "    tick_marks = np.arange(len(classes))\n",
    "    plt.xticks(tick_marks, classes, rotation=45)\n",
    "    plt.yticks(tick_marks, classes)\n",
    "\n",
    "    if normalize:\n",
    "        cm = cm.astype('float') / cm.sum(axis=1)[:, np.newaxis]\n",
    "        print(\"Normalized confusion matrix\")\n",
    "    else:\n",
    "        print('Confusion matrix, without normalization')\n",
    "\n",
    "    print(cm)\n",
    "\n",
    "    thresh = cm.max() / 2.\n",
    "    for i, j in itertools.product(range(cm.shape[0]), range(cm.shape[1])):\n",
    "        plt.text(j, i, cm[i, j],\n",
    "                 horizontalalignment=\"center\",\n",
    "                 color=\"white\" if cm[i, j] > thresh else \"black\")\n",
    "\n",
    "    plt.tight_layout()\n",
    "    plt.ylabel('True label')\n",
    "    plt.xlabel('Predicted label')"
   ]
  },
  {
   "cell_type": "code",
   "execution_count": 37,
   "id": "67d09d63",
   "metadata": {},
   "outputs": [
    {
     "data": {
      "text/plain": [
       "{'cat': 0, 'dog': 1}"
      ]
     },
     "execution_count": 37,
     "metadata": {},
     "output_type": "execute_result"
    }
   ],
   "source": [
    "test_batches.class_indices"
   ]
  },
  {
   "cell_type": "code",
   "execution_count": 38,
   "id": "5d5b5df8",
   "metadata": {},
   "outputs": [
    {
     "name": "stdout",
     "output_type": "stream",
     "text": [
      "Confusion matrix, without normalization\n",
      "[[50  0]\n",
      " [ 0 50]]\n"
     ]
    },
    {
     "data": {
      "image/png": "[encoded data removed]",
      "text/plain": [
       "<Figure size 432x288 with 2 Axes>"
      ]
     },
     "metadata": {
      "needs_background": "light"
     },
     "output_type": "display_data"
    }
   ],
   "source": [
    "cm = confusion_matrix(y_true=test_batches.classes, y_pred=np.argmax(pred, axis=1))\n",
    "plot_confusion_matrix(cm=cm, classes=[\"cat\",\"dogs\"])"
   ]
  },
  {
   "cell_type": "code",
   "execution_count": null,
   "id": "cb530923",
   "metadata": {},
   "outputs": [],
   "source": []
  }
 ],
 "metadata": {
  "kernelspec": {
   "display_name": "Python 3 (ipykernel)",
   "language": "python",
   "name": "python3"
  },
  "language_info": {
   "codemirror_mode": {
    "name": "ipython",
    "version": 3
   },
   "file_extension": ".py",
   "mimetype": "text/x-python",
   "name": "python",
   "nbconvert_exporter": "python",
   "pygments_lexer": "ipython3",
   "version": "3.9.12"
  }
 },
 "nbformat": 4,
 "nbformat_minor": 5
}
