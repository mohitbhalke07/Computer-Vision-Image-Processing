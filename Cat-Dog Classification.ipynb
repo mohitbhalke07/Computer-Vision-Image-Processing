{
 "cells": [
  {
   "cell_type": "code",
   "execution_count": 83,
   "id": "986d5f4b",
   "metadata": {},
   "outputs": [],
   "source": [
    "import numpy as np\n",
    "import os\n",
    "import itertools\n",
    "import glob\n",
    "import random\n",
    "import shutil\n",
    "from sklearn.utils import shuffle\n",
    "import matplotlib.pyplot as plt\n",
    "from tensorflow.keras.preprocessing.image import ImageDataGenerator\n",
    "import tensorflow as tf\n",
    "from tensorflow import keras\n",
    "from tensorflow.keras.models import Sequential\n",
    "from tensorflow.keras.layers import Activation, Dense, Flatten, BatchNormalization, Conv2D, MaxPool2D\n",
    "from tensorflow.keras.optimizers import Adam\n",
    "from tensorflow.keras import layers\n",
    "from tensorflow.keras.metrics import categorical_crossentropy\n",
    "from sklearn.metrics import plot_confusion_matrix, confusion_matrix"
   ]
  },
  {
   "cell_type": "code",
   "execution_count": 75,
   "id": "1db81a89",
   "metadata": {},
   "outputs": [],
   "source": [
    "os.chdir(\"C:/Users/mohit/Image Processing/cat-dog datatset\")\n",
    "\n",
    "if os.path.isdir(\"train/dog\") is False:\n",
    "    os.makedirs(\"train/dog\")\n",
    "    os.makedirs(\"train/cat\")\n",
    "    os.makedirs(\"valid/dog\")\n",
    "    os.makedirs(\"valid/cat\")\n",
    "    os.makedirs(\"test/dog\")\n",
    "    os.makedirs(\"test/cat\")\n",
    "    \n",
    "    for c in random.sample(glob.glob(\"cat*\"), 200):\n",
    "        shutil.move(c, \"train/cat\")\n",
    "    for c in random.sample(glob.glob(\"dog*\"), 200):\n",
    "        shutil.move(c, \"train/dog\")\n",
    "    for c in random.sample(glob.glob(\"cat*\"), 100):\n",
    "        shutil.move(c, \"valid/cat\")\n",
    "    for c in random.sample(glob.glob(\"dog*\"), 100):\n",
    "        shutil.move(c, \"valid/dog\")\n",
    "    for c in random.sample(glob.glob(\"cat*\"), 50):\n",
    "        shutil.move(c, \"test/cat\")\n",
    "    for c in random.sample(glob.glob(\"dog*\"), 50):\n",
    "        shutil.move(c, \"test/dog\")\n",
    "\n",
    "os.chdir(\"../../\")"
   ]
  },
  {
   "cell_type": "code",
   "execution_count": 84,
   "id": "3bafc6ad",
   "metadata": {},
   "outputs": [],
   "source": [
    "train_path = \"C:/Users/mohit/Image Processing/cat-dog datatset/train\"\n",
    "test_path = \"C:/Users/mohit/Image Processing/cat-dog datatset/test\"\n",
    "valid_path = \"C:/Users/mohit/Image Processing/cat-dog datatset/valid\""
   ]
  },
  {
   "cell_type": "code",
   "execution_count": 85,
   "id": "3471e635",
   "metadata": {},
   "outputs": [
    {
     "name": "stdout",
     "output_type": "stream",
     "text": [
      "Found 400 images belonging to 2 classes.\n",
      "Found 100 images belonging to 2 classes.\n",
      "Found 200 images belonging to 2 classes.\n"
     ]
    }
   ],
   "source": [
    "#Preprocessing for model\n",
    "\n",
    "train_batches = ImageDataGenerator(preprocessing_function=tf.keras.applications.vgg16.preprocess_input).flow_from_directory(directory=train_path, target_size=(224,224), classes=[\"cat\", \"dog\"], batch_size=10)\n",
    "test_batches = ImageDataGenerator(preprocessing_function=tf.keras.applications.vgg16.preprocess_input).flow_from_directory(directory=test_path, target_size=(224,224), classes=[\"cat\", \"dog\"], batch_size=10, shuffle=False)\n",
    "valid_batches = ImageDataGenerator(preprocessing_function=tf.keras.applications.vgg16.preprocess_input).flow_from_directory(directory=valid_path, target_size=(224,224), classes=[\"cat\", \"dog\"], batch_size=10)"
   ]
  },
  {
   "cell_type": "markdown",
   "id": "02d95c2c",
   "metadata": {},
   "source": [
    "# CNN Model"
   ]
  },
  {
   "cell_type": "code",
   "execution_count": 86,
   "id": "c7485514",
   "metadata": {},
   "outputs": [],
   "source": [
    "data_augmentation = keras.Sequential(\n",
    "  [\n",
    "    layers.experimental.preprocessing.RandomFlip(\"horizontal\",input_shape=(224,224,3)),\n",
    "    layers.experimental.preprocessing.RandomRotation(0.1),\n",
    "    layers.experimental.preprocessing.RandomZoom(0.1),\n",
    "  ]\n",
    ")"
   ]
  },
  {
   "cell_type": "code",
   "execution_count": 87,
   "id": "9e158554",
   "metadata": {},
   "outputs": [],
   "source": [
    "model1 = Sequential([\n",
    "  data_augmentation,\n",
    "  layers.Conv2D(16, (3,3), 1, padding='same', activation='relu'),\n",
    "  layers.MaxPooling2D(pool_size=(2,2), strides=2),\n",
    "  layers.Conv2D(32, (3,3), 1, padding='same', activation='relu'),\n",
    "  layers.MaxPooling2D(pool_size=(2,2), strides=2),\n",
    "  layers.Conv2D(64, (3,3), 1, padding='same', activation='relu'),\n",
    "  layers.MaxPooling2D(pool_size=(2,2), strides=2),\n",
    "  layers.Dropout(0.2),\n",
    "  layers.Flatten(),\n",
    "  layers.Dense(256, activation='relu'),\n",
    "  layers.Dense(2, activation='softmax')\n",
    "])"
   ]
  },
  {
   "cell_type": "code",
   "execution_count": 88,
   "id": "b512a59a",
   "metadata": {},
   "outputs": [
    {
     "name": "stdout",
     "output_type": "stream",
     "text": [
      "Model: \"sequential_12\"\n",
      "_________________________________________________________________\n",
      "Layer (type)                 Output Shape              Param #   \n",
      "=================================================================\n",
      "sequential_11 (Sequential)   (None, 224, 224, 3)       0         \n",
      "_________________________________________________________________\n",
      "conv2d_15 (Conv2D)           (None, 224, 224, 16)      448       \n",
      "_________________________________________________________________\n",
      "max_pooling2d_15 (MaxPooling (None, 112, 112, 16)      0         \n",
      "_________________________________________________________________\n",
      "conv2d_16 (Conv2D)           (None, 112, 112, 32)      4640      \n",
      "_________________________________________________________________\n",
      "max_pooling2d_16 (MaxPooling (None, 56, 56, 32)        0         \n",
      "_________________________________________________________________\n",
      "conv2d_17 (Conv2D)           (None, 56, 56, 64)        18496     \n",
      "_________________________________________________________________\n",
      "max_pooling2d_17 (MaxPooling (None, 28, 28, 64)        0         \n",
      "_________________________________________________________________\n",
      "dropout_5 (Dropout)          (None, 28, 28, 64)        0         \n",
      "_________________________________________________________________\n",
      "flatten_5 (Flatten)          (None, 50176)             0         \n",
      "_________________________________________________________________\n",
      "dense_11 (Dense)             (None, 256)               12845312  \n",
      "_________________________________________________________________\n",
      "dense_12 (Dense)             (None, 2)                 514       \n",
      "=================================================================\n",
      "Total params: 12,869,410\n",
      "Trainable params: 12,869,410\n",
      "Non-trainable params: 0\n",
      "_________________________________________________________________\n"
     ]
    }
   ],
   "source": [
    "model1.summary()"
   ]
  },
  {
   "cell_type": "code",
   "execution_count": 89,
   "id": "d43e91a6",
   "metadata": {},
   "outputs": [],
   "source": [
    "model1.compile(optimizer=Adam(learning_rate=0.0001), loss=\"categorical_crossentropy\", metrics=[\"accuracy\"])"
   ]
  },
  {
   "cell_type": "code",
   "execution_count": 90,
   "id": "c0a94046",
   "metadata": {
    "scrolled": true
   },
   "outputs": [
    {
     "name": "stdout",
     "output_type": "stream",
     "text": [
      "Epoch 1/20\n",
      "40/40 [==============================] - 6s 142ms/step - loss: 14.5230 - accuracy: 0.5525 - val_loss: 1.5333 - val_accuracy: 0.6000\n",
      "Epoch 2/20\n",
      "40/40 [==============================] - 6s 148ms/step - loss: 1.7612 - accuracy: 0.5425 - val_loss: 2.3036 - val_accuracy: 0.5000\n",
      "Epoch 3/20\n",
      "40/40 [==============================] - 5s 137ms/step - loss: 1.2886 - accuracy: 0.6000 - val_loss: 1.1439 - val_accuracy: 0.5600\n",
      "Epoch 4/20\n",
      "40/40 [==============================] - 4s 91ms/step - loss: 0.8397 - accuracy: 0.6225 - val_loss: 1.3481 - val_accuracy: 0.5600\n",
      "Epoch 5/20\n",
      "40/40 [==============================] - 5s 129ms/step - loss: 0.9683 - accuracy: 0.6125 - val_loss: 1.2009 - val_accuracy: 0.6000\n",
      "Epoch 6/20\n",
      "40/40 [==============================] - 3s 87ms/step - loss: 0.9318 - accuracy: 0.5900 - val_loss: 0.8961 - val_accuracy: 0.6100\n",
      "Epoch 7/20\n",
      "40/40 [==============================] - 5s 131ms/step - loss: 0.6908 - accuracy: 0.6750 - val_loss: 0.9491 - val_accuracy: 0.5750\n",
      "Epoch 8/20\n",
      "40/40 [==============================] - 5s 132ms/step - loss: 0.6492 - accuracy: 0.6875 - val_loss: 0.9337 - val_accuracy: 0.6250\n",
      "Epoch 9/20\n",
      "40/40 [==============================] - 4s 90ms/step - loss: 0.6925 - accuracy: 0.6525 - val_loss: 0.9055 - val_accuracy: 0.6350\n",
      "Epoch 10/20\n",
      "40/40 [==============================] - 5s 134ms/step - loss: 0.6180 - accuracy: 0.7125 - val_loss: 0.8530 - val_accuracy: 0.6450\n",
      "Epoch 11/20\n",
      "40/40 [==============================] - 3s 88ms/step - loss: 0.6912 - accuracy: 0.6825 - val_loss: 0.9585 - val_accuracy: 0.5850\n",
      "Epoch 12/20\n",
      "40/40 [==============================] - 5s 88ms/step - loss: 0.5506 - accuracy: 0.7400 - val_loss: 0.8314 - val_accuracy: 0.6450\n",
      "Epoch 13/20\n",
      "40/40 [==============================] - 5s 134ms/step - loss: 0.6129 - accuracy: 0.7075 - val_loss: 0.7960 - val_accuracy: 0.6550\n",
      "Epoch 14/20\n",
      "40/40 [==============================] - 4s 90ms/step - loss: 0.5064 - accuracy: 0.7625 - val_loss: 0.8042 - val_accuracy: 0.6050\n",
      "Epoch 15/20\n",
      "40/40 [==============================] - 5s 134ms/step - loss: 0.4853 - accuracy: 0.7675 - val_loss: 0.7553 - val_accuracy: 0.6300\n",
      "Epoch 16/20\n",
      "40/40 [==============================] - 3s 88ms/step - loss: 0.4978 - accuracy: 0.7450 - val_loss: 0.7904 - val_accuracy: 0.6350\n",
      "Epoch 17/20\n",
      "40/40 [==============================] - 5s 85ms/step - loss: 0.5071 - accuracy: 0.7550 - val_loss: 0.7640 - val_accuracy: 0.6350\n",
      "Epoch 18/20\n",
      "40/40 [==============================] - 5s 136ms/step - loss: 0.4353 - accuracy: 0.8050 - val_loss: 0.9549 - val_accuracy: 0.6700\n",
      "Epoch 19/20\n",
      "40/40 [==============================] - 4s 89ms/step - loss: 0.4572 - accuracy: 0.7700 - val_loss: 0.8691 - val_accuracy: 0.6200\n",
      "Epoch 20/20\n",
      "40/40 [==============================] - 5s 135ms/step - loss: 0.4785 - accuracy: 0.7800 - val_loss: 0.7778 - val_accuracy: 0.6350\n"
     ]
    }
   ],
   "source": [
    "hist1 = model1.fit(train_batches, validation_data=valid_batches, shuffle=True, batch_size=10 , epochs=20)"
   ]
  },
  {
   "cell_type": "code",
   "execution_count": 91,
   "id": "b53eb75e",
   "metadata": {},
   "outputs": [
    {
     "data": {
      "text/plain": [
       "[<matplotlib.lines.Line2D at 0x134635d4640>]"
      ]
     },
     "execution_count": 91,
     "metadata": {},
     "output_type": "execute_result"
    },
    {
     "data": {
      "image/png": "[encoded data removed]",
      "text/plain": [
       "<Figure size 432x288 with 1 Axes>"
      ]
     },
     "metadata": {
      "needs_background": "light"
     },
     "output_type": "display_data"
    }
   ],
   "source": [
    "plt.plot(hist1.history[\"accuracy\"])\n",
    "plt.plot(hist1.history[\"val_accuracy\"])"
   ]
  },
  {
   "cell_type": "code",
   "execution_count": 92,
   "id": "819ca13d",
   "metadata": {},
   "outputs": [
    {
     "data": {
      "text/plain": [
       "[<matplotlib.lines.Line2D at 0x13463025f10>]"
      ]
     },
     "execution_count": 92,
     "metadata": {},
     "output_type": "execute_result"
    },
    {
     "data": {
      "image/png": "[encoded data removed]",
      "text/plain": [
       "<Figure size 432x288 with 1 Axes>"
      ]
     },
     "metadata": {
      "needs_background": "light"
     },
     "output_type": "display_data"
    }
   ],
   "source": [
    "plt.plot(hist1.history[\"loss\"])\n",
    "plt.plot(hist1.history[\"val_accuracy\"])"
   ]
  },
  {
   "cell_type": "code",
   "execution_count": 93,
   "id": "4d77b76b",
   "metadata": {},
   "outputs": [
    {
     "data": {
      "text/plain": [
       "{'cat': 0, 'dog': 1}"
      ]
     },
     "execution_count": 93,
     "metadata": {},
     "output_type": "execute_result"
    }
   ],
   "source": [
    "test_batches.class_indices"
   ]
  },
  {
   "cell_type": "code",
   "execution_count": 94,
   "id": "15802d23",
   "metadata": {},
   "outputs": [
    {
     "data": {
      "text/plain": [
       "[0, 1, 0, 0, 0, 0, 1, 0, 1, 1]"
      ]
     },
     "execution_count": 94,
     "metadata": {},
     "output_type": "execute_result"
    }
   ],
   "source": [
    "pred = model1.predict(test_batches)\n",
    "y_classes = [np.argmax(i) for i in pred]\n",
    "y_classes[:10]"
   ]
  },
  {
   "cell_type": "code",
   "execution_count": 95,
   "id": "1c31a967",
   "metadata": {},
   "outputs": [],
   "source": [
    "def plot_confusion_matrix(cm, classes,\n",
    "                          normalize=False,\n",
    "                          title='Confusion matrix',\n",
    "                          cmap=plt.cm.Blues):\n",
    "    \"\"\"\n",
    "    This function prints and plots the confusion matrix.\n",
    "    Normalization can be applied by setting `normalize=True`.\n",
    "    \"\"\"\n",
    "    plt.imshow(cm, interpolation='nearest', cmap=cmap)\n",
    "    plt.title(title)\n",
    "    plt.colorbar()\n",
    "    tick_marks = np.arange(len(classes))\n",
    "    plt.xticks(tick_marks, classes, rotation=45)\n",
    "    plt.yticks(tick_marks, classes)\n",
    "\n",
    "    if normalize:\n",
    "        cm = cm.astype('float') / cm.sum(axis=1)[:, np.newaxis]\n",
    "        print(\"Normalized confusion matrix\")\n",
    "    else:\n",
    "        print('Confusion matrix, without normalization')\n",
    "\n",
    "    print(cm)\n",
    "\n",
    "    thresh = cm.max() / 2.\n",
    "    for i, j in itertools.product(range(cm.shape[0]), range(cm.shape[1])):\n",
    "        plt.text(j, i, cm[i, j],\n",
    "                 horizontalalignment=\"center\",\n",
    "                 color=\"white\" if cm[i, j] > thresh else \"black\")\n",
    "\n",
    "    plt.tight_layout()\n",
    "    plt.ylabel('True label')\n",
    "    plt.xlabel('Predicted label')"
   ]
  },
  {
   "cell_type": "code",
   "execution_count": 96,
   "id": "95c3912b",
   "metadata": {},
   "outputs": [
    {
     "name": "stdout",
     "output_type": "stream",
     "text": [
      "Confusion matrix, without normalization\n",
      "[[30 20]\n",
      " [16 34]]\n"
     ]
    },
    {
     "data": {
      "image/png": "[encoded data removed]",
      "text/plain": [
       "<Figure size 432x288 with 2 Axes>"
      ]
     },
     "metadata": {
      "needs_background": "light"
     },
     "output_type": "display_data"
    }
   ],
   "source": [
    "cm = confusion_matrix(y_true=test_batches.classes, y_pred=np.argmax(pred, axis=1))\n",
    "plot_confusion_matrix(cm=cm, classes=[\"cat\",\"dogs\"])"
   ]
  },
  {
   "cell_type": "markdown",
   "id": "31135a60",
   "metadata": {},
   "source": [
    "# VGG16 Model"
   ]
  },
  {
   "cell_type": "code",
   "execution_count": null,
   "id": "8947eb39",
   "metadata": {},
   "outputs": [],
   "source": [
    "#vgg16_model = tf.keras.applications.vgg16.VGG16()"
   ]
  },
  {
   "cell_type": "code",
   "execution_count": 97,
   "id": "a767355b",
   "metadata": {
    "scrolled": true
   },
   "outputs": [
    {
     "name": "stdout",
     "output_type": "stream",
     "text": [
      "Model: \"vgg16\"\n",
      "_________________________________________________________________\n",
      "Layer (type)                 Output Shape              Param #   \n",
      "=================================================================\n",
      "input_1 (InputLayer)         [(None, 224, 224, 3)]     0         \n",
      "_________________________________________________________________\n",
      "block1_conv1 (Conv2D)        (None, 224, 224, 64)      1792      \n",
      "_________________________________________________________________\n",
      "block1_conv2 (Conv2D)        (None, 224, 224, 64)      36928     \n",
      "_________________________________________________________________\n",
      "block1_pool (MaxPooling2D)   (None, 112, 112, 64)      0         \n",
      "_________________________________________________________________\n",
      "block2_conv1 (Conv2D)        (None, 112, 112, 128)     73856     \n",
      "_________________________________________________________________\n",
      "block2_conv2 (Conv2D)        (None, 112, 112, 128)     147584    \n",
      "_________________________________________________________________\n",
      "block2_pool (MaxPooling2D)   (None, 56, 56, 128)       0         \n",
      "_________________________________________________________________\n",
      "block3_conv1 (Conv2D)        (None, 56, 56, 256)       295168    \n",
      "_________________________________________________________________\n",
      "block3_conv2 (Conv2D)        (None, 56, 56, 256)       590080    \n",
      "_________________________________________________________________\n",
      "block3_conv3 (Conv2D)        (None, 56, 56, 256)       590080    \n",
      "_________________________________________________________________\n",
      "block3_pool (MaxPooling2D)   (None, 28, 28, 256)       0         \n",
      "_________________________________________________________________\n",
      "block4_conv1 (Conv2D)        (None, 28, 28, 512)       1180160   \n",
      "_________________________________________________________________\n",
      "block4_conv2 (Conv2D)        (None, 28, 28, 512)       2359808   \n",
      "_________________________________________________________________\n",
      "block4_conv3 (Conv2D)        (None, 28, 28, 512)       2359808   \n",
      "_________________________________________________________________\n",
      "block4_pool (MaxPooling2D)   (None, 14, 14, 512)       0         \n",
      "_________________________________________________________________\n",
      "block5_conv1 (Conv2D)        (None, 14, 14, 512)       2359808   \n",
      "_________________________________________________________________\n",
      "block5_conv2 (Conv2D)        (None, 14, 14, 512)       2359808   \n",
      "_________________________________________________________________\n",
      "block5_conv3 (Conv2D)        (None, 14, 14, 512)       2359808   \n",
      "_________________________________________________________________\n",
      "block5_pool (MaxPooling2D)   (None, 7, 7, 512)         0         \n",
      "_________________________________________________________________\n",
      "flatten (Flatten)            (None, 25088)             0         \n",
      "_________________________________________________________________\n",
      "fc1 (Dense)                  (None, 4096)              102764544 \n",
      "_________________________________________________________________\n",
      "fc2 (Dense)                  (None, 4096)              16781312  \n",
      "_________________________________________________________________\n",
      "predictions (Dense)          (None, 1000)              4097000   \n",
      "=================================================================\n",
      "Total params: 138,357,544\n",
      "Trainable params: 4,097,000\n",
      "Non-trainable params: 134,260,544\n",
      "_________________________________________________________________\n"
     ]
    }
   ],
   "source": [
    "vgg16_model.summary()"
   ]
  },
  {
   "cell_type": "code",
   "execution_count": 98,
   "id": "ceebbcdd",
   "metadata": {},
   "outputs": [],
   "source": [
    "model2 = Sequential()\n",
    "for layer in vgg16_model.layers[:-1]:\n",
    "    model2.add(layer)"
   ]
  },
  {
   "cell_type": "code",
   "execution_count": 99,
   "id": "27fb51d0",
   "metadata": {
    "scrolled": true
   },
   "outputs": [
    {
     "name": "stdout",
     "output_type": "stream",
     "text": [
      "Model: \"sequential_13\"\n",
      "_________________________________________________________________\n",
      "Layer (type)                 Output Shape              Param #   \n",
      "=================================================================\n",
      "block1_conv1 (Conv2D)        (None, 224, 224, 64)      1792      \n",
      "_________________________________________________________________\n",
      "block1_conv2 (Conv2D)        (None, 224, 224, 64)      36928     \n",
      "_________________________________________________________________\n",
      "block1_pool (MaxPooling2D)   (None, 112, 112, 64)      0         \n",
      "_________________________________________________________________\n",
      "block2_conv1 (Conv2D)        (None, 112, 112, 128)     73856     \n",
      "_________________________________________________________________\n",
      "block2_conv2 (Conv2D)        (None, 112, 112, 128)     147584    \n",
      "_________________________________________________________________\n",
      "block2_pool (MaxPooling2D)   (None, 56, 56, 128)       0         \n",
      "_________________________________________________________________\n",
      "block3_conv1 (Conv2D)        (None, 56, 56, 256)       295168    \n",
      "_________________________________________________________________\n",
      "block3_conv2 (Conv2D)        (None, 56, 56, 256)       590080    \n",
      "_________________________________________________________________\n",
      "block3_conv3 (Conv2D)        (None, 56, 56, 256)       590080    \n",
      "_________________________________________________________________\n",
      "block3_pool (MaxPooling2D)   (None, 28, 28, 256)       0         \n",
      "_________________________________________________________________\n",
      "block4_conv1 (Conv2D)        (None, 28, 28, 512)       1180160   \n",
      "_________________________________________________________________\n",
      "block4_conv2 (Conv2D)        (None, 28, 28, 512)       2359808   \n",
      "_________________________________________________________________\n",
      "block4_conv3 (Conv2D)        (None, 28, 28, 512)       2359808   \n",
      "_________________________________________________________________\n",
      "block4_pool (MaxPooling2D)   (None, 14, 14, 512)       0         \n",
      "_________________________________________________________________\n",
      "block5_conv1 (Conv2D)        (None, 14, 14, 512)       2359808   \n",
      "_________________________________________________________________\n",
      "block5_conv2 (Conv2D)        (None, 14, 14, 512)       2359808   \n",
      "_________________________________________________________________\n",
      "block5_conv3 (Conv2D)        (None, 14, 14, 512)       2359808   \n",
      "_________________________________________________________________\n",
      "block5_pool (MaxPooling2D)   (None, 7, 7, 512)         0         \n",
      "_________________________________________________________________\n",
      "flatten (Flatten)            (None, 25088)             0         \n",
      "_________________________________________________________________\n",
      "fc1 (Dense)                  (None, 4096)              102764544 \n",
      "_________________________________________________________________\n",
      "fc2 (Dense)                  (None, 4096)              16781312  \n",
      "=================================================================\n",
      "Total params: 134,260,544\n",
      "Trainable params: 0\n",
      "Non-trainable params: 134,260,544\n",
      "_________________________________________________________________\n"
     ]
    }
   ],
   "source": [
    "model2.summary()"
   ]
  },
  {
   "cell_type": "code",
   "execution_count": 100,
   "id": "f8daf6cf",
   "metadata": {},
   "outputs": [],
   "source": [
    "for layer in model.layers:\n",
    "    layer.trainable = False"
   ]
  },
  {
   "cell_type": "code",
   "execution_count": 101,
   "id": "9d406fd5",
   "metadata": {},
   "outputs": [],
   "source": [
    "model2.add(Dense(units=2, activation=\"softmax\"))"
   ]
  },
  {
   "cell_type": "code",
   "execution_count": 102,
   "id": "30732666",
   "metadata": {
    "scrolled": true
   },
   "outputs": [
    {
     "name": "stdout",
     "output_type": "stream",
     "text": [
      "Model: \"sequential_13\"\n",
      "_________________________________________________________________\n",
      "Layer (type)                 Output Shape              Param #   \n",
      "=================================================================\n",
      "block1_conv1 (Conv2D)        (None, 224, 224, 64)      1792      \n",
      "_________________________________________________________________\n",
      "block1_conv2 (Conv2D)        (None, 224, 224, 64)      36928     \n",
      "_________________________________________________________________\n",
      "block1_pool (MaxPooling2D)   (None, 112, 112, 64)      0         \n",
      "_________________________________________________________________\n",
      "block2_conv1 (Conv2D)        (None, 112, 112, 128)     73856     \n",
      "_________________________________________________________________\n",
      "block2_conv2 (Conv2D)        (None, 112, 112, 128)     147584    \n",
      "_________________________________________________________________\n",
      "block2_pool (MaxPooling2D)   (None, 56, 56, 128)       0         \n",
      "_________________________________________________________________\n",
      "block3_conv1 (Conv2D)        (None, 56, 56, 256)       295168    \n",
      "_________________________________________________________________\n",
      "block3_conv2 (Conv2D)        (None, 56, 56, 256)       590080    \n",
      "_________________________________________________________________\n",
      "block3_conv3 (Conv2D)        (None, 56, 56, 256)       590080    \n",
      "_________________________________________________________________\n",
      "block3_pool (MaxPooling2D)   (None, 28, 28, 256)       0         \n",
      "_________________________________________________________________\n",
      "block4_conv1 (Conv2D)        (None, 28, 28, 512)       1180160   \n",
      "_________________________________________________________________\n",
      "block4_conv2 (Conv2D)        (None, 28, 28, 512)       2359808   \n",
      "_________________________________________________________________\n",
      "block4_conv3 (Conv2D)        (None, 28, 28, 512)       2359808   \n",
      "_________________________________________________________________\n",
      "block4_pool (MaxPooling2D)   (None, 14, 14, 512)       0         \n",
      "_________________________________________________________________\n",
      "block5_conv1 (Conv2D)        (None, 14, 14, 512)       2359808   \n",
      "_________________________________________________________________\n",
      "block5_conv2 (Conv2D)        (None, 14, 14, 512)       2359808   \n",
      "_________________________________________________________________\n",
      "block5_conv3 (Conv2D)        (None, 14, 14, 512)       2359808   \n",
      "_________________________________________________________________\n",
      "block5_pool (MaxPooling2D)   (None, 7, 7, 512)         0         \n",
      "_________________________________________________________________\n",
      "flatten (Flatten)            (None, 25088)             0         \n",
      "_________________________________________________________________\n",
      "fc1 (Dense)                  (None, 4096)              102764544 \n",
      "_________________________________________________________________\n",
      "fc2 (Dense)                  (None, 4096)              16781312  \n",
      "_________________________________________________________________\n",
      "dense_13 (Dense)             (None, 2)                 8194      \n",
      "=================================================================\n",
      "Total params: 134,268,738\n",
      "Trainable params: 8,194\n",
      "Non-trainable params: 134,260,544\n",
      "_________________________________________________________________\n"
     ]
    }
   ],
   "source": [
    "model2.summary()"
   ]
  },
  {
   "cell_type": "code",
   "execution_count": 103,
   "id": "b9912131",
   "metadata": {},
   "outputs": [],
   "source": [
    "model2.compile(optimizer=Adam(learning_rate=0.0001), loss=\"categorical_crossentropy\", metrics=[\"accuracy\"])"
   ]
  },
  {
   "cell_type": "code",
   "execution_count": 104,
   "id": "63e97ab4",
   "metadata": {
    "scrolled": true
   },
   "outputs": [
    {
     "name": "stdout",
     "output_type": "stream",
     "text": [
      "Epoch 1/30\n",
      "40/40 [==============================] - 21s 511ms/step - loss: 0.7522 - accuracy: 0.6775 - val_loss: 0.3403 - val_accuracy: 0.8500\n",
      "Epoch 2/30\n",
      "40/40 [==============================] - 25s 649ms/step - loss: 0.1633 - accuracy: 0.9350 - val_loss: 0.2097 - val_accuracy: 0.9200\n",
      "Epoch 3/30\n",
      "40/40 [==============================] - 21s 526ms/step - loss: 0.0889 - accuracy: 0.9625 - val_loss: 0.1732 - val_accuracy: 0.9300\n",
      "Epoch 4/30\n",
      "40/40 [==============================] - 20s 517ms/step - loss: 0.0600 - accuracy: 0.9825 - val_loss: 0.1522 - val_accuracy: 0.9450\n",
      "Epoch 5/30\n",
      "40/40 [==============================] - 23s 575ms/step - loss: 0.0421 - accuracy: 0.9925 - val_loss: 0.1427 - val_accuracy: 0.9550\n",
      "Epoch 6/30\n",
      "40/40 [==============================] - 21s 522ms/step - loss: 0.0323 - accuracy: 0.9950 - val_loss: 0.1338 - val_accuracy: 0.9600\n",
      "Epoch 7/30\n",
      "40/40 [==============================] - 21s 526ms/step - loss: 0.0252 - accuracy: 0.9975 - val_loss: 0.1294 - val_accuracy: 0.9650\n",
      "Epoch 8/30\n",
      "40/40 [==============================] - 22s 565ms/step - loss: 0.0208 - accuracy: 1.0000 - val_loss: 0.1261 - val_accuracy: 0.9650\n",
      "Epoch 9/30\n",
      "40/40 [==============================] - 21s 538ms/step - loss: 0.0175 - accuracy: 1.0000 - val_loss: 0.1227 - val_accuracy: 0.9650\n",
      "Epoch 10/30\n",
      "40/40 [==============================] - 18s 420ms/step - loss: 0.0148 - accuracy: 1.0000 - val_loss: 0.1216 - val_accuracy: 0.9650\n",
      "Epoch 11/30\n",
      "40/40 [==============================] - 15s 372ms/step - loss: 0.0130 - accuracy: 1.0000 - val_loss: 0.1210 - val_accuracy: 0.9650\n",
      "Epoch 12/30\n",
      "40/40 [==============================] - 19s 483ms/step - loss: 0.0114 - accuracy: 1.0000 - val_loss: 0.1194 - val_accuracy: 0.9650\n",
      "Epoch 13/30\n",
      "40/40 [==============================] - 21s 533ms/step - loss: 0.0101 - accuracy: 1.0000 - val_loss: 0.1191 - val_accuracy: 0.9650\n",
      "Epoch 14/30\n",
      "40/40 [==============================] - 21s 539ms/step - loss: 0.0091 - accuracy: 1.0000 - val_loss: 0.1175 - val_accuracy: 0.9650\n",
      "Epoch 15/30\n",
      "40/40 [==============================] - 21s 541ms/step - loss: 0.0081 - accuracy: 1.0000 - val_loss: 0.1175 - val_accuracy: 0.9650\n",
      "Epoch 16/30\n",
      "40/40 [==============================] - 21s 541ms/step - loss: 0.0074 - accuracy: 1.0000 - val_loss: 0.1174 - val_accuracy: 0.9650\n",
      "Epoch 17/30\n",
      "40/40 [==============================] - 22s 525ms/step - loss: 0.0068 - accuracy: 1.0000 - val_loss: 0.1173 - val_accuracy: 0.9650\n",
      "Epoch 18/30\n",
      "40/40 [==============================] - 24s 619ms/step - loss: 0.0062 - accuracy: 1.0000 - val_loss: 0.1171 - val_accuracy: 0.9650\n",
      "Epoch 19/30\n",
      "40/40 [==============================] - 20s 521ms/step - loss: 0.0057 - accuracy: 1.0000 - val_loss: 0.1168 - val_accuracy: 0.9650\n",
      "Epoch 20/30\n",
      "40/40 [==============================] - 24s 612ms/step - loss: 0.0053 - accuracy: 1.0000 - val_loss: 0.1162 - val_accuracy: 0.9650\n",
      "Epoch 21/30\n",
      "40/40 [==============================] - 22s 570ms/step - loss: 0.0049 - accuracy: 1.0000 - val_loss: 0.1163 - val_accuracy: 0.9650\n",
      "Epoch 22/30\n",
      "40/40 [==============================] - 23s 594ms/step - loss: 0.0046 - accuracy: 1.0000 - val_loss: 0.1165 - val_accuracy: 0.9650\n",
      "Epoch 23/30\n",
      "40/40 [==============================] - 23s 594ms/step - loss: 0.0043 - accuracy: 1.0000 - val_loss: 0.1167 - val_accuracy: 0.9650\n",
      "Epoch 24/30\n",
      "40/40 [==============================] - 21s 541ms/step - loss: 0.0040 - accuracy: 1.0000 - val_loss: 0.1165 - val_accuracy: 0.9650\n",
      "Epoch 25/30\n",
      "40/40 [==============================] - 19s 494ms/step - loss: 0.0038 - accuracy: 1.0000 - val_loss: 0.1167 - val_accuracy: 0.9650\n",
      "Epoch 26/30\n",
      "40/40 [==============================] - 7s 181ms/step - loss: 0.0035 - accuracy: 1.0000 - val_loss: 0.1165 - val_accuracy: 0.9650\n",
      "Epoch 27/30\n",
      "40/40 [==============================] - 7s 180ms/step - loss: 0.0033 - accuracy: 1.0000 - val_loss: 0.1168 - val_accuracy: 0.9650\n",
      "Epoch 28/30\n",
      "40/40 [==============================] - 7s 180ms/step - loss: 0.0031 - accuracy: 1.0000 - val_loss: 0.1168 - val_accuracy: 0.9650\n",
      "Epoch 29/30\n",
      "40/40 [==============================] - 7s 182ms/step - loss: 0.0030 - accuracy: 1.0000 - val_loss: 0.1175 - val_accuracy: 0.9650\n",
      "Epoch 30/30\n",
      "40/40 [==============================] - 7s 183ms/step - loss: 0.0028 - accuracy: 1.0000 - val_loss: 0.1168 - val_accuracy: 0.9650\n"
     ]
    }
   ],
   "source": [
    "hist2 = model2.fit(x=train_batches, validation_data=valid_batches, shuffle=True, batch_size=5 , epochs=30)"
   ]
  },
  {
   "cell_type": "code",
   "execution_count": 105,
   "id": "f9b81c7e",
   "metadata": {},
   "outputs": [
    {
     "data": {
      "text/plain": [
       "[<matplotlib.lines.Line2D at 0x13464892c10>]"
      ]
     },
     "execution_count": 105,
     "metadata": {},
     "output_type": "execute_result"
    },
    {
     "data": {
      "image/png": "[encoded data removed]",
      "text/plain": [
       "<Figure size 432x288 with 1 Axes>"
      ]
     },
     "metadata": {
      "needs_background": "light"
     },
     "output_type": "display_data"
    }
   ],
   "source": [
    "plt.plot(hist2.history[\"accuracy\"])\n",
    "plt.plot(hist2.history[\"val_accuracy\"])"
   ]
  },
  {
   "cell_type": "code",
   "execution_count": 106,
   "id": "f93062dc",
   "metadata": {},
   "outputs": [
    {
     "data": {
      "text/plain": [
       "[<matplotlib.lines.Line2D at 0x13464905370>]"
      ]
     },
     "execution_count": 106,
     "metadata": {},
     "output_type": "execute_result"
    },
    {
     "data": {
      "image/png": "[encoded data removed]",
      "text/plain": [
       "<Figure size 432x288 with 1 Axes>"
      ]
     },
     "metadata": {
      "needs_background": "light"
     },
     "output_type": "display_data"
    }
   ],
   "source": [
    "plt.plot(hist2.history[\"loss\"])\n",
    "plt.plot(hist2.history[\"val_accuracy\"])"
   ]
  },
  {
   "cell_type": "code",
   "execution_count": 107,
   "id": "2a91890f",
   "metadata": {},
   "outputs": [
    {
     "data": {
      "text/plain": [
       "[0, 0, 0, 0, 0, 0, 0, 0, 0, 0]"
      ]
     },
     "execution_count": 107,
     "metadata": {},
     "output_type": "execute_result"
    }
   ],
   "source": [
    "pred = model2.predict(test_batches)\n",
    "y_classes = [np.argmax(i) for i in pred]\n",
    "y_classes[:10]"
   ]
  },
  {
   "cell_type": "code",
   "execution_count": 108,
   "id": "c223391f",
   "metadata": {},
   "outputs": [],
   "source": [
    "def plot_confusion_matrix(cm, classes,\n",
    "                          normalize=False,\n",
    "                          title='Confusion matrix',\n",
    "                          cmap=plt.cm.Blues):\n",
    "    \"\"\"\n",
    "    This function prints and plots the confusion matrix.\n",
    "    Normalization can be applied by setting `normalize=True`.\n",
    "    \"\"\"\n",
    "    plt.imshow(cm, interpolation='nearest', cmap=cmap)\n",
    "    plt.title(title)\n",
    "    plt.colorbar()\n",
    "    tick_marks = np.arange(len(classes))\n",
    "    plt.xticks(tick_marks, classes, rotation=45)\n",
    "    plt.yticks(tick_marks, classes)\n",
    "\n",
    "    if normalize:\n",
    "        cm = cm.astype('float') / cm.sum(axis=1)[:, np.newaxis]\n",
    "        print(\"Normalized confusion matrix\")\n",
    "    else:\n",
    "        print('Confusion matrix, without normalization')\n",
    "\n",
    "    print(cm)\n",
    "\n",
    "    thresh = cm.max() / 2.\n",
    "    for i, j in itertools.product(range(cm.shape[0]), range(cm.shape[1])):\n",
    "        plt.text(j, i, cm[i, j],\n",
    "                 horizontalalignment=\"center\",\n",
    "                 color=\"white\" if cm[i, j] > thresh else \"black\")\n",
    "\n",
    "    plt.tight_layout()\n",
    "    plt.ylabel('True label')\n",
    "    plt.xlabel('Predicted label')"
   ]
  },
  {
   "cell_type": "code",
   "execution_count": 109,
   "id": "67d09d63",
   "metadata": {},
   "outputs": [
    {
     "data": {
      "text/plain": [
       "{'cat': 0, 'dog': 1}"
      ]
     },
     "execution_count": 109,
     "metadata": {},
     "output_type": "execute_result"
    }
   ],
   "source": [
    "test_batches.class_indices"
   ]
  },
  {
   "cell_type": "code",
   "execution_count": 110,
   "id": "5d5b5df8",
   "metadata": {},
   "outputs": [
    {
     "name": "stdout",
     "output_type": "stream",
     "text": [
      "Confusion matrix, without normalization\n",
      "[[50  0]\n",
      " [ 1 49]]\n"
     ]
    },
    {
     "data": {
      "image/png": "[encoded data removed]",
      "text/plain": [
       "<Figure size 432x288 with 2 Axes>"
      ]
     },
     "metadata": {
      "needs_background": "light"
     },
     "output_type": "display_data"
    }
   ],
   "source": [
    "cm = confusion_matrix(y_true=test_batches.classes, y_pred=np.argmax(pred, axis=1))\n",
    "plot_confusion_matrix(cm=cm, classes=[\"cat\",\"dogs\"])"
   ]
  },
  {
   "cell_type": "code",
   "execution_count": null,
   "id": "cb530923",
   "metadata": {},
   "outputs": [],
   "source": []
  }
 ],
 "metadata": {
  "kernelspec": {
   "display_name": "Python 3 (ipykernel)",
   "language": "python",
   "name": "python3"
  },
  "language_info": {
   "codemirror_mode": {
    "name": "ipython",
    "version": 3
   },
   "file_extension": ".py",
   "mimetype": "text/x-python",
   "name": "python",
   "nbconvert_exporter": "python",
   "pygments_lexer": "ipython3",
   "version": "3.9.12"
  }
 },
 "nbformat": 4,
 "nbformat_minor": 5
}
