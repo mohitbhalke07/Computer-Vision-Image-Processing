{
 "cells": [
  {
   "cell_type": "code",
   "execution_count": 73,
   "id": "aa843230",
   "metadata": {},
   "outputs": [],
   "source": [
    "import tensorflow as tf\n",
    "from tensorflow import keras\n",
    "import itertools\n",
    "import cv2\n",
    "import matplotlib.pyplot as plt\n",
    "from tensorflow.keras import layers\n",
    "from tensorflow.keras.preprocessing.image import ImageDataGenerator\n",
    "from tensorflow.keras.models import Sequential\n",
    "from tensorflow.keras.layers import Conv2D, MaxPool2D, Dense, Flatten\n",
    "from tensorflow.keras.optimizers import Adam\n",
    "from sklearn.metrics import plot_confusion_matrix, confusion_matrix"
   ]
  },
  {
   "cell_type": "code",
   "execution_count": 74,
   "id": "ffb89885",
   "metadata": {},
   "outputs": [],
   "source": [
    "train_path = \"C:/Users/mohit/Image Processing/Sign-Language-Digits/train\"\n",
    "test_path = \"C:/Users/mohit/Image Processing/Sign-Language-Digits/test\"\n",
    "valid_path = \"C:/Users/mohit/Image Processing/Sign-Language-Digits/valid\""
   ]
  },
  {
   "cell_type": "code",
   "execution_count": 75,
   "id": "a2dd9444",
   "metadata": {},
   "outputs": [
    {
     "name": "stdout",
     "output_type": "stream",
     "text": [
      "Found 1712 images belonging to 10 classes.\n",
      "Found 50 images belonging to 10 classes.\n",
      "Found 300 images belonging to 10 classes.\n"
     ]
    }
   ],
   "source": [
    "#Preprocessing\n",
    "\n",
    "train_batches = ImageDataGenerator(preprocessing_function=tf.keras.applications.vgg16.preprocess_input).flow_from_directory(directory=train_path, target_size=(224,224), batch_size=10)\n",
    "test_batches = ImageDataGenerator(preprocessing_function=tf.keras.applications.vgg16.preprocess_input).flow_from_directory(directory=test_path, target_size=(224,224), batch_size=10, shuffle=False)\n",
    "valid_batches = ImageDataGenerator(preprocessing_function=tf.keras.applications.vgg16.preprocess_input).flow_from_directory(directory=valid_path, target_size=(224,224), batch_size=10)"
   ]
  },
  {
   "cell_type": "code",
   "execution_count": 76,
   "id": "407bf4fe",
   "metadata": {},
   "outputs": [],
   "source": [
    "data_augmentation = keras.Sequential(\n",
    "  [\n",
    "    layers.experimental.preprocessing.RandomFlip(\"horizontal\",input_shape=(224,224,3)),\n",
    "    layers.experimental.preprocessing.RandomRotation(0.1),\n",
    "    layers.experimental.preprocessing.RandomZoom(0.1),\n",
    "  ]\n",
    ")"
   ]
  },
  {
   "cell_type": "code",
   "execution_count": 77,
   "id": "b764df3e",
   "metadata": {
    "scrolled": true
   },
   "outputs": [],
   "source": [
    "model1 = Sequential([\n",
    "  data_augmentation,\n",
    "  layers.Conv2D(16, (3,3), 1, padding='same', activation='relu'),\n",
    "  layers.MaxPooling2D(pool_size=(2,2), strides=2),\n",
    "  layers.Conv2D(32, (3,3), 1, padding='same', activation='relu'),\n",
    "  layers.MaxPooling2D(pool_size=(2,2), strides=2),\n",
    "  layers.Conv2D(64, (3,3), 1, padding='same', activation='relu'),\n",
    "  layers.MaxPooling2D(pool_size=(2,2), strides=2),\n",
    "  layers.Dropout(0.2),\n",
    "  layers.Flatten(),\n",
    "  layers.Dense(256, activation='relu'),\n",
    "  layers.Dense(10, activation='softmax')\n",
    "])"
   ]
  },
  {
   "cell_type": "code",
   "execution_count": 78,
   "id": "f3bf733d",
   "metadata": {},
   "outputs": [
    {
     "name": "stdout",
     "output_type": "stream",
     "text": [
      "Model: \"sequential_7\"\n",
      "_________________________________________________________________\n",
      "Layer (type)                 Output Shape              Param #   \n",
      "=================================================================\n",
      "sequential_6 (Sequential)    (None, 224, 224, 3)       0         \n",
      "_________________________________________________________________\n",
      "conv2d_6 (Conv2D)            (None, 224, 224, 16)      448       \n",
      "_________________________________________________________________\n",
      "max_pooling2d_6 (MaxPooling2 (None, 112, 112, 16)      0         \n",
      "_________________________________________________________________\n",
      "conv2d_7 (Conv2D)            (None, 112, 112, 32)      4640      \n",
      "_________________________________________________________________\n",
      "max_pooling2d_7 (MaxPooling2 (None, 56, 56, 32)        0         \n",
      "_________________________________________________________________\n",
      "conv2d_8 (Conv2D)            (None, 56, 56, 64)        18496     \n",
      "_________________________________________________________________\n",
      "max_pooling2d_8 (MaxPooling2 (None, 28, 28, 64)        0         \n",
      "_________________________________________________________________\n",
      "dropout_2 (Dropout)          (None, 28, 28, 64)        0         \n",
      "_________________________________________________________________\n",
      "flatten_2 (Flatten)          (None, 50176)             0         \n",
      "_________________________________________________________________\n",
      "dense_6 (Dense)              (None, 256)               12845312  \n",
      "_________________________________________________________________\n",
      "dense_7 (Dense)              (None, 10)                2570      \n",
      "=================================================================\n",
      "Total params: 12,871,466\n",
      "Trainable params: 12,871,466\n",
      "Non-trainable params: 0\n",
      "_________________________________________________________________\n"
     ]
    }
   ],
   "source": [
    "model1.summary()"
   ]
  },
  {
   "cell_type": "code",
   "execution_count": 79,
   "id": "ecd6fbc7",
   "metadata": {},
   "outputs": [],
   "source": [
    "model1.compile(optimizer=Adam(learning_rate=0.0001), loss=\"categorical_crossentropy\", metrics=[\"accuracy\"])"
   ]
  },
  {
   "cell_type": "code",
   "execution_count": 80,
   "id": "51699087",
   "metadata": {},
   "outputs": [
    {
     "name": "stdout",
     "output_type": "stream",
     "text": [
      "Epoch 1/50\n",
      "172/172 [==============================] - 9s 42ms/step - loss: 4.4786 - accuracy: 0.2249 - val_loss: 1.4970 - val_accuracy: 0.4833\n",
      "Epoch 2/50\n",
      "172/172 [==============================] - 6s 36ms/step - loss: 1.6898 - accuracy: 0.4428 - val_loss: 1.2348 - val_accuracy: 0.5733\n",
      "Epoch 3/50\n",
      "172/172 [==============================] - 6s 35ms/step - loss: 1.3371 - accuracy: 0.5485 - val_loss: 1.0950 - val_accuracy: 0.6200\n",
      "Epoch 4/50\n",
      "172/172 [==============================] - 6s 36ms/step - loss: 1.1626 - accuracy: 0.6040 - val_loss: 0.9932 - val_accuracy: 0.6467\n",
      "Epoch 5/50\n",
      "172/172 [==============================] - 6s 36ms/step - loss: 1.0172 - accuracy: 0.6595 - val_loss: 0.8652 - val_accuracy: 0.7167\n",
      "Epoch 6/50\n",
      "172/172 [==============================] - 6s 35ms/step - loss: 0.8862 - accuracy: 0.7114 - val_loss: 0.7025 - val_accuracy: 0.7533\n",
      "Epoch 7/50\n",
      "172/172 [==============================] - 6s 35ms/step - loss: 0.7657 - accuracy: 0.7611 - val_loss: 0.7469 - val_accuracy: 0.7467\n",
      "Epoch 8/50\n",
      "172/172 [==============================] - 6s 36ms/step - loss: 0.7157 - accuracy: 0.7588 - val_loss: 0.5848 - val_accuracy: 0.7967\n",
      "Epoch 9/50\n",
      "172/172 [==============================] - 6s 35ms/step - loss: 0.6239 - accuracy: 0.7932 - val_loss: 0.7142 - val_accuracy: 0.7800\n",
      "Epoch 10/50\n",
      "172/172 [==============================] - 6s 35ms/step - loss: 0.5769 - accuracy: 0.8055 - val_loss: 0.5468 - val_accuracy: 0.8200\n",
      "Epoch 11/50\n",
      "172/172 [==============================] - 6s 35ms/step - loss: 0.5350 - accuracy: 0.8277 - val_loss: 0.4113 - val_accuracy: 0.8667\n",
      "Epoch 12/50\n",
      "172/172 [==============================] - 6s 35ms/step - loss: 0.4912 - accuracy: 0.8400 - val_loss: 0.4292 - val_accuracy: 0.8400\n",
      "Epoch 13/50\n",
      "172/172 [==============================] - 6s 35ms/step - loss: 0.4667 - accuracy: 0.8470 - val_loss: 0.4106 - val_accuracy: 0.8633\n",
      "Epoch 14/50\n",
      "172/172 [==============================] - 6s 35ms/step - loss: 0.4583 - accuracy: 0.8458 - val_loss: 0.3654 - val_accuracy: 0.8733\n",
      "Epoch 15/50\n",
      "172/172 [==============================] - 6s 36ms/step - loss: 0.4093 - accuracy: 0.8621 - val_loss: 0.3820 - val_accuracy: 0.8667\n",
      "Epoch 16/50\n",
      "172/172 [==============================] - 6s 35ms/step - loss: 0.4040 - accuracy: 0.8686 - val_loss: 0.4729 - val_accuracy: 0.8300\n",
      "Epoch 17/50\n",
      "172/172 [==============================] - 6s 36ms/step - loss: 0.3930 - accuracy: 0.8703 - val_loss: 0.3643 - val_accuracy: 0.8733\n",
      "Epoch 18/50\n",
      "172/172 [==============================] - 6s 36ms/step - loss: 0.3414 - accuracy: 0.8890 - val_loss: 0.3304 - val_accuracy: 0.8900\n",
      "Epoch 19/50\n",
      "172/172 [==============================] - 6s 37ms/step - loss: 0.3762 - accuracy: 0.8709 - val_loss: 0.3566 - val_accuracy: 0.8867\n",
      "Epoch 20/50\n",
      "172/172 [==============================] - 6s 35ms/step - loss: 0.3159 - accuracy: 0.8919 - val_loss: 0.4000 - val_accuracy: 0.8733\n",
      "Epoch 21/50\n",
      "172/172 [==============================] - 6s 36ms/step - loss: 0.3181 - accuracy: 0.9013 - val_loss: 0.3948 - val_accuracy: 0.8667\n",
      "Epoch 22/50\n",
      "172/172 [==============================] - 6s 36ms/step - loss: 0.2879 - accuracy: 0.9153 - val_loss: 0.2931 - val_accuracy: 0.9000\n",
      "Epoch 23/50\n",
      "172/172 [==============================] - 6s 36ms/step - loss: 0.2579 - accuracy: 0.9141 - val_loss: 0.2653 - val_accuracy: 0.9133\n",
      "Epoch 24/50\n",
      "172/172 [==============================] - 6s 36ms/step - loss: 0.2667 - accuracy: 0.9211 - val_loss: 0.3039 - val_accuracy: 0.9033\n",
      "Epoch 25/50\n",
      "172/172 [==============================] - 6s 36ms/step - loss: 0.2761 - accuracy: 0.9095 - val_loss: 0.2550 - val_accuracy: 0.9267\n",
      "Epoch 26/50\n",
      "172/172 [==============================] - 6s 37ms/step - loss: 0.2587 - accuracy: 0.9136 - val_loss: 0.2892 - val_accuracy: 0.9000\n",
      "Epoch 27/50\n",
      "172/172 [==============================] - 6s 35ms/step - loss: 0.2400 - accuracy: 0.9229 - val_loss: 0.2332 - val_accuracy: 0.9300\n",
      "Epoch 28/50\n",
      "172/172 [==============================] - 6s 35ms/step - loss: 0.2251 - accuracy: 0.9241 - val_loss: 0.2696 - val_accuracy: 0.9200\n",
      "Epoch 29/50\n",
      "172/172 [==============================] - 6s 34ms/step - loss: 0.2463 - accuracy: 0.9229 - val_loss: 0.2557 - val_accuracy: 0.9267\n",
      "Epoch 30/50\n",
      "172/172 [==============================] - 6s 37ms/step - loss: 0.2363 - accuracy: 0.9258 - val_loss: 0.2613 - val_accuracy: 0.9100\n",
      "Epoch 31/50\n",
      "172/172 [==============================] - 6s 34ms/step - loss: 0.2134 - accuracy: 0.9346 - val_loss: 0.2845 - val_accuracy: 0.8967\n",
      "Epoch 32/50\n",
      "172/172 [==============================] - 6s 34ms/step - loss: 0.2257 - accuracy: 0.9235 - val_loss: 0.2818 - val_accuracy: 0.9033\n",
      "Epoch 33/50\n",
      "172/172 [==============================] - 6s 35ms/step - loss: 0.1811 - accuracy: 0.9375 - val_loss: 0.2691 - val_accuracy: 0.9200\n",
      "Epoch 34/50\n",
      "172/172 [==============================] - 6s 34ms/step - loss: 0.2009 - accuracy: 0.9317 - val_loss: 0.2634 - val_accuracy: 0.9067\n",
      "Epoch 35/50\n",
      "172/172 [==============================] - 6s 36ms/step - loss: 0.1749 - accuracy: 0.9463 - val_loss: 0.3323 - val_accuracy: 0.9233\n",
      "Epoch 36/50\n",
      "172/172 [==============================] - 6s 34ms/step - loss: 0.1839 - accuracy: 0.9398 - val_loss: 0.2749 - val_accuracy: 0.9167\n",
      "Epoch 37/50\n",
      "172/172 [==============================] - 6s 32ms/step - loss: 0.1740 - accuracy: 0.9451 - val_loss: 0.2413 - val_accuracy: 0.9167\n",
      "Epoch 38/50\n",
      "172/172 [==============================] - 6s 33ms/step - loss: 0.1670 - accuracy: 0.9451 - val_loss: 0.2128 - val_accuracy: 0.9400\n",
      "Epoch 39/50\n",
      "172/172 [==============================] - 6s 33ms/step - loss: 0.1553 - accuracy: 0.9509 - val_loss: 0.2176 - val_accuracy: 0.9367\n",
      "Epoch 40/50\n",
      "172/172 [==============================] - 6s 32ms/step - loss: 0.1798 - accuracy: 0.9509 - val_loss: 0.2629 - val_accuracy: 0.9367\n",
      "Epoch 41/50\n",
      "172/172 [==============================] - 5s 30ms/step - loss: 0.1347 - accuracy: 0.9550 - val_loss: 0.2050 - val_accuracy: 0.9433\n",
      "Epoch 42/50\n",
      "172/172 [==============================] - 5s 30ms/step - loss: 0.1648 - accuracy: 0.9451 - val_loss: 0.2778 - val_accuracy: 0.9200\n",
      "Epoch 43/50\n",
      "172/172 [==============================] - 5s 30ms/step - loss: 0.1363 - accuracy: 0.9533 - val_loss: 0.2087 - val_accuracy: 0.9267\n",
      "Epoch 44/50\n",
      "172/172 [==============================] - 5s 30ms/step - loss: 0.1481 - accuracy: 0.9556 - val_loss: 0.3222 - val_accuracy: 0.9067\n",
      "Epoch 45/50\n",
      "172/172 [==============================] - 5s 30ms/step - loss: 0.1329 - accuracy: 0.9585 - val_loss: 0.2961 - val_accuracy: 0.9200\n",
      "Epoch 46/50\n",
      "172/172 [==============================] - 5s 30ms/step - loss: 0.1427 - accuracy: 0.9568 - val_loss: 0.2603 - val_accuracy: 0.9233\n",
      "Epoch 47/50\n",
      "172/172 [==============================] - 5s 30ms/step - loss: 0.1134 - accuracy: 0.9556 - val_loss: 0.2213 - val_accuracy: 0.9367\n",
      "Epoch 48/50\n",
      "172/172 [==============================] - 5s 30ms/step - loss: 0.1300 - accuracy: 0.9574 - val_loss: 0.2132 - val_accuracy: 0.9333\n",
      "Epoch 49/50\n",
      "172/172 [==============================] - 5s 30ms/step - loss: 0.1032 - accuracy: 0.9690 - val_loss: 0.2492 - val_accuracy: 0.9233\n",
      "Epoch 50/50\n",
      "172/172 [==============================] - 5s 30ms/step - loss: 0.1001 - accuracy: 0.9673 - val_loss: 0.2457 - val_accuracy: 0.9267\n"
     ]
    }
   ],
   "source": [
    "hist1 = model1.fit(train_batches, validation_data=valid_batches, shuffle=True, batch_size=5 , epochs=50)"
   ]
  },
  {
   "cell_type": "code",
   "execution_count": 81,
   "id": "93b2a306",
   "metadata": {},
   "outputs": [
    {
     "data": {
      "text/plain": [
       "[<matplotlib.lines.Line2D at 0x282de099e20>]"
      ]
     },
     "execution_count": 81,
     "metadata": {},
     "output_type": "execute_result"
    },
    {
     "data": {
      "image/png": "[encoded data removed]",
      "text/plain": [
       "<Figure size 432x288 with 1 Axes>"
      ]
     },
     "metadata": {
      "needs_background": "light"
     },
     "output_type": "display_data"
    }
   ],
   "source": [
    "plt.plot(hist1.history[\"accuracy\"])\n",
    "plt.plot(hist1.history[\"val_accuracy\"])"
   ]
  },
  {
   "cell_type": "code",
   "execution_count": 82,
   "id": "579d3c90",
   "metadata": {},
   "outputs": [
    {
     "data": {
      "text/plain": [
       "[<matplotlib.lines.Line2D at 0x282de1123a0>]"
      ]
     },
     "execution_count": 82,
     "metadata": {},
     "output_type": "execute_result"
    },
    {
     "data": {
      "image/png": "[encoded data removed]",
      "text/plain": [
       "<Figure size 432x288 with 1 Axes>"
      ]
     },
     "metadata": {
      "needs_background": "light"
     },
     "output_type": "display_data"
    }
   ],
   "source": [
    "plt.plot(hist1.history[\"loss\"])\n",
    "plt.plot(hist1.history[\"val_accuracy\"])"
   ]
  },
  {
   "cell_type": "code",
   "execution_count": 83,
   "id": "4efa3606",
   "metadata": {},
   "outputs": [
    {
     "data": {
      "text/plain": [
       "[0, 0, 0, 0, 0, 1, 1, 1, 1, 1]"
      ]
     },
     "execution_count": 83,
     "metadata": {},
     "output_type": "execute_result"
    }
   ],
   "source": [
    "pred = model1.predict(test_batches)\n",
    "y_classes = [np.argmax(i) for i in pred]\n",
    "y_classes[:10]"
   ]
  },
  {
   "cell_type": "code",
   "execution_count": 84,
   "id": "0ca7e5db",
   "metadata": {},
   "outputs": [],
   "source": [
    "def plot_confusion_matrix(cm, classes,\n",
    "                          normalize=False,\n",
    "                          title='Confusion matrix',\n",
    "                          cmap=plt.cm.Blues):\n",
    "    \"\"\"\n",
    "    This function prints and plots the confusion matrix.\n",
    "    Normalization can be applied by setting `normalize=True`.\n",
    "    \"\"\"\n",
    "    plt.imshow(cm, interpolation='nearest', cmap=cmap)\n",
    "    plt.title(title)\n",
    "    plt.colorbar()\n",
    "    tick_marks = np.arange(len(classes))\n",
    "    plt.xticks(tick_marks, classes, rotation=45)\n",
    "    plt.yticks(tick_marks, classes)\n",
    "\n",
    "    if normalize:\n",
    "        cm = cm.astype('float') / cm.sum(axis=1)[:, np.newaxis]\n",
    "        print(\"Normalized confusion matrix\")\n",
    "    else:\n",
    "        print('Confusion matrix, without normalization')\n",
    "\n",
    "    print(cm)\n",
    "\n",
    "    thresh = cm.max() / 2.\n",
    "    for i, j in itertools.product(range(cm.shape[0]), range(cm.shape[1])):\n",
    "        plt.text(j, i, cm[i, j],\n",
    "                 horizontalalignment=\"center\",\n",
    "                 color=\"white\" if cm[i, j] > thresh else \"black\")\n",
    "\n",
    "    plt.tight_layout()\n",
    "    plt.ylabel('True label')\n",
    "    plt.xlabel('Predicted label')"
   ]
  },
  {
   "cell_type": "code",
   "execution_count": 85,
   "id": "93fda88d",
   "metadata": {},
   "outputs": [
    {
     "data": {
      "text/plain": [
       "{'A0': 0,\n",
       " 'A1': 1,\n",
       " 'A2': 2,\n",
       " 'A3': 3,\n",
       " 'A4': 4,\n",
       " 'A5': 5,\n",
       " 'A6': 6,\n",
       " 'A7': 7,\n",
       " 'A8': 8,\n",
       " 'A9': 9}"
      ]
     },
     "execution_count": 85,
     "metadata": {},
     "output_type": "execute_result"
    }
   ],
   "source": [
    "test_batches.class_indices"
   ]
  },
  {
   "cell_type": "code",
   "execution_count": 86,
   "id": "914608ed",
   "metadata": {},
   "outputs": [
    {
     "name": "stdout",
     "output_type": "stream",
     "text": [
      "Confusion matrix, without normalization\n",
      "[[5 0 0 0 0 0 0 0 0 0]\n",
      " [0 5 0 0 0 0 0 0 0 0]\n",
      " [0 0 5 0 0 0 0 0 0 0]\n",
      " [0 0 0 4 0 0 0 1 0 0]\n",
      " [0 0 0 1 4 0 0 0 0 0]\n",
      " [0 0 0 0 0 5 0 0 0 0]\n",
      " [0 0 0 0 0 0 5 0 0 0]\n",
      " [0 0 1 0 0 0 0 3 1 0]\n",
      " [0 0 0 0 0 0 0 1 4 0]\n",
      " [0 0 0 0 0 0 0 0 0 5]]\n"
     ]
    },
    {
     "data": {
      "image/png": "[encoded data removed]",
      "text/plain": [
       "<Figure size 432x288 with 2 Axes>"
      ]
     },
     "metadata": {
      "needs_background": "light"
     },
     "output_type": "display_data"
    }
   ],
   "source": [
    "cm = confusion_matrix(y_true=test_batches.classes, y_pred=np.argmax(pred, axis=1))\n",
    "plot_confusion_matrix(cm=cm, classes=[0,1,2,3,4,5,6,7,8,9])"
   ]
  },
  {
   "cell_type": "markdown",
   "id": "5fdbbfda",
   "metadata": {},
   "source": [
    "# VGG16 Model"
   ]
  },
  {
   "cell_type": "code",
   "execution_count": 98,
   "id": "506860c8",
   "metadata": {},
   "outputs": [],
   "source": [
    "#vgg16_model = tf.keras.applications.vgg16.VGG16()"
   ]
  },
  {
   "cell_type": "code",
   "execution_count": 88,
   "id": "e5f29a9c",
   "metadata": {},
   "outputs": [],
   "source": [
    "model2 = Sequential()\n",
    "for layer in vgg16_model.layers[:-1]:\n",
    "    model2.add(layer)\n",
    "    \n",
    "for layer in model2.layers:\n",
    "    layer.trainable = False\n",
    "    \n",
    "model2.add(Dense(units=10, activation=\"softmax\"))"
   ]
  },
  {
   "cell_type": "code",
   "execution_count": 89,
   "id": "1a366d1b",
   "metadata": {
    "scrolled": true
   },
   "outputs": [
    {
     "name": "stdout",
     "output_type": "stream",
     "text": [
      "Model: \"sequential_8\"\n",
      "_________________________________________________________________\n",
      "Layer (type)                 Output Shape              Param #   \n",
      "=================================================================\n",
      "block1_conv1 (Conv2D)        (None, 224, 224, 64)      1792      \n",
      "_________________________________________________________________\n",
      "block1_conv2 (Conv2D)        (None, 224, 224, 64)      36928     \n",
      "_________________________________________________________________\n",
      "block1_pool (MaxPooling2D)   (None, 112, 112, 64)      0         \n",
      "_________________________________________________________________\n",
      "block2_conv1 (Conv2D)        (None, 112, 112, 128)     73856     \n",
      "_________________________________________________________________\n",
      "block2_conv2 (Conv2D)        (None, 112, 112, 128)     147584    \n",
      "_________________________________________________________________\n",
      "block2_pool (MaxPooling2D)   (None, 56, 56, 128)       0         \n",
      "_________________________________________________________________\n",
      "block3_conv1 (Conv2D)        (None, 56, 56, 256)       295168    \n",
      "_________________________________________________________________\n",
      "block3_conv2 (Conv2D)        (None, 56, 56, 256)       590080    \n",
      "_________________________________________________________________\n",
      "block3_conv3 (Conv2D)        (None, 56, 56, 256)       590080    \n",
      "_________________________________________________________________\n",
      "block3_pool (MaxPooling2D)   (None, 28, 28, 256)       0         \n",
      "_________________________________________________________________\n",
      "block4_conv1 (Conv2D)        (None, 28, 28, 512)       1180160   \n",
      "_________________________________________________________________\n",
      "block4_conv2 (Conv2D)        (None, 28, 28, 512)       2359808   \n",
      "_________________________________________________________________\n",
      "block4_conv3 (Conv2D)        (None, 28, 28, 512)       2359808   \n",
      "_________________________________________________________________\n",
      "block4_pool (MaxPooling2D)   (None, 14, 14, 512)       0         \n",
      "_________________________________________________________________\n",
      "block5_conv1 (Conv2D)        (None, 14, 14, 512)       2359808   \n",
      "_________________________________________________________________\n",
      "block5_conv2 (Conv2D)        (None, 14, 14, 512)       2359808   \n",
      "_________________________________________________________________\n",
      "block5_conv3 (Conv2D)        (None, 14, 14, 512)       2359808   \n",
      "_________________________________________________________________\n",
      "block5_pool (MaxPooling2D)   (None, 7, 7, 512)         0         \n",
      "_________________________________________________________________\n",
      "flatten (Flatten)            (None, 25088)             0         \n",
      "_________________________________________________________________\n",
      "fc1 (Dense)                  (None, 4096)              102764544 \n",
      "_________________________________________________________________\n",
      "fc2 (Dense)                  (None, 4096)              16781312  \n",
      "_________________________________________________________________\n",
      "dense_8 (Dense)              (None, 10)                40970     \n",
      "=================================================================\n",
      "Total params: 134,301,514\n",
      "Trainable params: 40,970\n",
      "Non-trainable params: 134,260,544\n",
      "_________________________________________________________________\n"
     ]
    }
   ],
   "source": [
    "model2.summary()"
   ]
  },
  {
   "cell_type": "code",
   "execution_count": 90,
   "id": "1c4cc3f7",
   "metadata": {},
   "outputs": [],
   "source": [
    "model2.compile(optimizer=Adam(learning_rate=0.0001), loss=\"categorical_crossentropy\", metrics=[\"accuracy\"])"
   ]
  },
  {
   "cell_type": "code",
   "execution_count": 91,
   "id": "b363caa1",
   "metadata": {
    "scrolled": true
   },
   "outputs": [
    {
     "name": "stdout",
     "output_type": "stream",
     "text": [
      "Epoch 1/29\n",
      "172/172 [==============================] - 25s 141ms/step - loss: 1.5888 - accuracy: 0.4720 - val_loss: 1.0388 - val_accuracy: 0.6600\n",
      "Epoch 2/29\n",
      "172/172 [==============================] - 24s 139ms/step - loss: 0.7957 - accuracy: 0.7617 - val_loss: 0.7202 - val_accuracy: 0.7700\n",
      "Epoch 3/29\n",
      "172/172 [==============================] - 24s 137ms/step - loss: 0.5752 - accuracy: 0.8411 - val_loss: 0.6078 - val_accuracy: 0.8067\n",
      "Epoch 4/29\n",
      "172/172 [==============================] - 25s 143ms/step - loss: 0.4640 - accuracy: 0.8808 - val_loss: 0.4972 - val_accuracy: 0.8433\n",
      "Epoch 5/29\n",
      "172/172 [==============================] - 24s 137ms/step - loss: 0.3916 - accuracy: 0.8919 - val_loss: 0.4453 - val_accuracy: 0.8667\n",
      "Epoch 6/29\n",
      "172/172 [==============================] - 25s 146ms/step - loss: 0.3366 - accuracy: 0.9223 - val_loss: 0.4058 - val_accuracy: 0.8833\n",
      "Epoch 7/29\n",
      "172/172 [==============================] - 25s 146ms/step - loss: 0.2963 - accuracy: 0.9352 - val_loss: 0.3696 - val_accuracy: 0.8900\n",
      "Epoch 8/29\n",
      "172/172 [==============================] - 24s 139ms/step - loss: 0.2660 - accuracy: 0.9433 - val_loss: 0.3602 - val_accuracy: 0.8967\n",
      "Epoch 9/29\n",
      "172/172 [==============================] - 24s 139ms/step - loss: 0.2445 - accuracy: 0.9515 - val_loss: 0.3294 - val_accuracy: 0.9167\n",
      "Epoch 10/29\n",
      "172/172 [==============================] - 27s 154ms/step - loss: 0.2172 - accuracy: 0.9585 - val_loss: 0.3233 - val_accuracy: 0.9133\n",
      "Epoch 11/29\n",
      "172/172 [==============================] - 25s 143ms/step - loss: 0.1964 - accuracy: 0.9690 - val_loss: 0.3012 - val_accuracy: 0.9167\n",
      "Epoch 12/29\n",
      "172/172 [==============================] - 25s 143ms/step - loss: 0.1797 - accuracy: 0.9761 - val_loss: 0.2906 - val_accuracy: 0.9167\n",
      "Epoch 13/29\n",
      "172/172 [==============================] - 25s 148ms/step - loss: 0.1644 - accuracy: 0.9749 - val_loss: 0.2769 - val_accuracy: 0.9267\n",
      "Epoch 14/29\n",
      "172/172 [==============================] - 25s 148ms/step - loss: 0.1532 - accuracy: 0.9801 - val_loss: 0.2746 - val_accuracy: 0.9233\n",
      "Epoch 15/29\n",
      "172/172 [==============================] - 27s 155ms/step - loss: 0.1410 - accuracy: 0.9813 - val_loss: 0.2533 - val_accuracy: 0.9300\n",
      "Epoch 16/29\n",
      "172/172 [==============================] - 27s 155ms/step - loss: 0.1299 - accuracy: 0.9836 - val_loss: 0.2459 - val_accuracy: 0.9267\n",
      "Epoch 17/29\n",
      "172/172 [==============================] - 26s 154ms/step - loss: 0.1211 - accuracy: 0.9854 - val_loss: 0.2435 - val_accuracy: 0.9267\n",
      "Epoch 18/29\n",
      "172/172 [==============================] - 26s 154ms/step - loss: 0.1122 - accuracy: 0.9901 - val_loss: 0.2409 - val_accuracy: 0.9267\n",
      "Epoch 19/29\n",
      "172/172 [==============================] - 27s 154ms/step - loss: 0.1055 - accuracy: 0.9912 - val_loss: 0.2302 - val_accuracy: 0.9333\n",
      "Epoch 20/29\n",
      "172/172 [==============================] - 27s 154ms/step - loss: 0.0970 - accuracy: 0.9895 - val_loss: 0.2236 - val_accuracy: 0.9367\n",
      "Epoch 21/29\n",
      "172/172 [==============================] - 27s 154ms/step - loss: 0.0922 - accuracy: 0.9918 - val_loss: 0.2191 - val_accuracy: 0.9433\n",
      "Epoch 22/29\n",
      "172/172 [==============================] - 27s 155ms/step - loss: 0.0851 - accuracy: 0.9918 - val_loss: 0.2168 - val_accuracy: 0.9333\n",
      "Epoch 23/29\n",
      "172/172 [==============================] - 25s 143ms/step - loss: 0.0779 - accuracy: 0.9971 - val_loss: 0.2146 - val_accuracy: 0.9400\n",
      "Epoch 24/29\n",
      "172/172 [==============================] - 23s 136ms/step - loss: 0.0746 - accuracy: 0.9971 - val_loss: 0.2147 - val_accuracy: 0.9367\n",
      "Epoch 25/29\n",
      "172/172 [==============================] - 23s 136ms/step - loss: 0.0711 - accuracy: 0.9971 - val_loss: 0.2106 - val_accuracy: 0.9367\n",
      "Epoch 26/29\n",
      "172/172 [==============================] - 26s 151ms/step - loss: 0.0662 - accuracy: 0.9971 - val_loss: 0.2031 - val_accuracy: 0.9300\n",
      "Epoch 27/29\n",
      "172/172 [==============================] - 27s 156ms/step - loss: 0.0619 - accuracy: 0.9953 - val_loss: 0.2080 - val_accuracy: 0.9333\n",
      "Epoch 28/29\n",
      "172/172 [==============================] - 27s 155ms/step - loss: 0.0574 - accuracy: 0.9988 - val_loss: 0.1938 - val_accuracy: 0.9400\n",
      "Epoch 29/29\n",
      "172/172 [==============================] - 24s 137ms/step - loss: 0.0528 - accuracy: 0.9982 - val_loss: 0.2004 - val_accuracy: 0.9367\n"
     ]
    }
   ],
   "source": [
    "hist2 = model2.fit(x=train_batches, validation_data=valid_batches, shuffle=True, batch_size=5 , epochs=29)"
   ]
  },
  {
   "cell_type": "code",
   "execution_count": 99,
   "id": "a7f75c59",
   "metadata": {},
   "outputs": [
    {
     "data": {
      "text/plain": [
       "[<matplotlib.lines.Line2D at 0x282e5f8fa60>]"
      ]
     },
     "execution_count": 99,
     "metadata": {},
     "output_type": "execute_result"
    },
    {
     "data": {
      "image/png": "[encoded data removed]",
      "text/plain": [
       "<Figure size 432x288 with 1 Axes>"
      ]
     },
     "metadata": {
      "needs_background": "light"
     },
     "output_type": "display_data"
    }
   ],
   "source": [
    "plt.plot(hist2.history[\"accuracy\"])\n",
    "plt.plot(hist2.history[\"val_accuracy\"])"
   ]
  },
  {
   "cell_type": "code",
   "execution_count": 100,
   "id": "78a50d60",
   "metadata": {},
   "outputs": [
    {
     "data": {
      "text/plain": [
       "[<matplotlib.lines.Line2D at 0x282e5fdeaf0>]"
      ]
     },
     "execution_count": 100,
     "metadata": {},
     "output_type": "execute_result"
    },
    {
     "data": {
      "image/png": "[encoded data removed]",
      "text/plain": [
       "<Figure size 432x288 with 1 Axes>"
      ]
     },
     "metadata": {
      "needs_background": "light"
     },
     "output_type": "display_data"
    }
   ],
   "source": [
    "plt.plot(hist2.history[\"loss\"])\n",
    "plt.plot(hist2.history[\"val_accuracy\"])"
   ]
  },
  {
   "cell_type": "code",
   "execution_count": 101,
   "id": "058a57fa",
   "metadata": {},
   "outputs": [
    {
     "data": {
      "text/plain": [
       "[0, 0, 0, 0, 0, 1, 1, 1, 1, 1]"
      ]
     },
     "execution_count": 101,
     "metadata": {},
     "output_type": "execute_result"
    }
   ],
   "source": [
    "pred = model2.predict(test_batches)\n",
    "y_classes = [np.argmax(i) for i in pred]\n",
    "y_classes[:10]"
   ]
  },
  {
   "cell_type": "code",
   "execution_count": 102,
   "id": "0b18c566",
   "metadata": {},
   "outputs": [
    {
     "name": "stdout",
     "output_type": "stream",
     "text": [
      "Confusion matrix, without normalization\n",
      "[[5 0 0 0 0 0 0 0 0 0]\n",
      " [0 5 0 0 0 0 0 0 0 0]\n",
      " [0 0 5 0 0 0 0 0 0 0]\n",
      " [0 0 0 5 0 0 0 0 0 0]\n",
      " [0 0 0 0 4 0 1 0 0 0]\n",
      " [0 0 0 0 0 5 0 0 0 0]\n",
      " [0 0 0 0 0 0 5 0 0 0]\n",
      " [0 0 0 0 0 0 0 5 0 0]\n",
      " [0 0 0 0 0 0 0 2 3 0]\n",
      " [0 0 0 0 0 0 0 0 1 4]]\n"
     ]
    },
    {
     "data": {
      "image/png": "[encoded data removed]",
      "text/plain": [
       "<Figure size 432x288 with 2 Axes>"
      ]
     },
     "metadata": {
      "needs_background": "light"
     },
     "output_type": "display_data"
    }
   ],
   "source": [
    "cm = confusion_matrix(y_true=test_batches.classes, y_pred=y_classes)\n",
    "plot_confusion_matrix(cm=cm, classes=[0,1,2,3,4,5,6,7,8,9])"
   ]
  },
  {
   "cell_type": "code",
   "execution_count": 117,
   "id": "d661d20b",
   "metadata": {},
   "outputs": [],
   "source": [
    "def predict(image):\n",
    "    img = cv2.imread(image)\n",
    "    plt.imshow(img)\n",
    "    plt.show()\n",
    "    #resize = tf.image.resize(img, (50,50))\n",
    "    resize = cv2.resize(img, (224,224))\n",
    "    #print(np.expand_dims(resize,0).shape)\n",
    "    pred = model1.predict(np.expand_dims(resize/255,0))\n",
    "    print(pred)\n",
    "    y_classes = np.argmax(pred)\n",
    "    print(y_classes)"
   ]
  },
  {
   "cell_type": "code",
   "execution_count": 121,
   "id": "b395a363",
   "metadata": {},
   "outputs": [
    {
     "data": {
      "image/png": "[encoded data removed]",
      "text/plain": [
       "<Figure size 432x288 with 1 Axes>"
      ]
     },
     "metadata": {
      "needs_background": "light"
     },
     "output_type": "display_data"
    },
    {
     "name": "stdout",
     "output_type": "stream",
     "text": [
      "[[0.10364801 0.0992403  0.09856752 0.10445441 0.09378754 0.09973004\n",
      "  0.09381947 0.09792349 0.10767888 0.10115027]]\n",
      "8\n"
     ]
    }
   ],
   "source": [
    "predict(\"C:/Users/mohit/Image Processing/Sign-Language-Digits/valid/A8/IMG_4824.jpg\")"
   ]
  },
  {
   "cell_type": "code",
   "execution_count": null,
   "id": "4b34c9d0",
   "metadata": {},
   "outputs": [],
   "source": []
  }
 ],
 "metadata": {
  "kernelspec": {
   "display_name": "Python 3 (ipykernel)",
   "language": "python",
   "name": "python3"
  },
  "language_info": {
   "codemirror_mode": {
    "name": "ipython",
    "version": 3
   },
   "file_extension": ".py",
   "mimetype": "text/x-python",
   "name": "python",
   "nbconvert_exporter": "python",
   "pygments_lexer": "ipython3",
   "version": "3.9.12"
  }
 },
 "nbformat": 4,
 "nbformat_minor": 5
}
