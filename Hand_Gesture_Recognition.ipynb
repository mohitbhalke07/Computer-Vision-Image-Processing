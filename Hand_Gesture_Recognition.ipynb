{
 "cells": [
  {
   "cell_type": "code",
   "execution_count": 9,
   "id": "aa843230",
   "metadata": {},
   "outputs": [],
   "source": [
    "import numpy as np\n",
    "import os\n",
    "import itertools\n",
    "import glob\n",
    "import random\n",
    "import shutil\n",
    "from sklearn.utils import shuffle\n",
    "import matplotlib.pyplot as plt\n",
    "\n",
    "import tensorflow as tf\n",
    "from tensorflow import keras\n",
    "import itertools\n",
    "import cv2\n",
    "\n",
    "from tensorflow.keras import layers\n",
    "from tensorflow.keras.preprocessing.image import ImageDataGenerator\n",
    "from tensorflow.keras.models import Sequential\n",
    "from tensorflow.keras.layers import Conv2D, MaxPool2D, Dense, Flatten\n",
    "from tensorflow.keras.optimizers import Adam\n",
    "\n",
    "from tensorflow.keras.metrics import categorical_crossentropy\n",
    "from sklearn.metrics import plot_confusion_matrix, confusion_matrix"
   ]
  },
  {
   "cell_type": "code",
   "execution_count": 10,
   "id": "ffb89885",
   "metadata": {},
   "outputs": [],
   "source": [
    "train_path = \"C:/Users/mohit/Computer Vision-Image Processing/Hand Gesture Digit Recognition/Sign-Language-Digits/train\"\n",
    "test_path = \"C:/Users/mohit/Computer Vision-Image Processing/Hand Gesture Digit Recognition/Sign-Language-Digits/test\"\n",
    "valid_path = \"C:/Users/mohit/Computer Vision-Image Processing/Hand Gesture Digit Recognition/Sign-Language-Digits/valid\""
   ]
  },
  {
   "cell_type": "code",
   "execution_count": 11,
   "id": "a2dd9444",
   "metadata": {},
   "outputs": [
    {
     "name": "stdout",
     "output_type": "stream",
     "text": [
      "Found 1712 images belonging to 10 classes.\n",
      "Found 50 images belonging to 10 classes.\n",
      "Found 300 images belonging to 10 classes.\n"
     ]
    }
   ],
   "source": [
    "# Preprocessing the Images\n",
    "\n",
    "train_batches = ImageDataGenerator(preprocessing_function=tf.keras.applications.vgg16.preprocess_input).flow_from_directory(directory=train_path, target_size=(224,224), batch_size=10)\n",
    "test_batches = ImageDataGenerator(preprocessing_function=tf.keras.applications.vgg16.preprocess_input).flow_from_directory(directory=test_path, target_size=(224,224), batch_size=10, shuffle=False)\n",
    "valid_batches = ImageDataGenerator(preprocessing_function=tf.keras.applications.vgg16.preprocess_input).flow_from_directory(directory=valid_path, target_size=(224,224), batch_size=10)"
   ]
  },
  {
   "cell_type": "markdown",
   "id": "f32d11b4",
   "metadata": {},
   "source": [
    "# Model Building"
   ]
  },
  {
   "cell_type": "markdown",
   "id": "adee2c11",
   "metadata": {},
   "source": [
    "**CNN Model**"
   ]
  },
  {
   "cell_type": "code",
   "execution_count": 12,
   "id": "407bf4fe",
   "metadata": {},
   "outputs": [],
   "source": [
    "# Data Augmentation\n",
    "\n",
    "data_augmentation = keras.Sequential(\n",
    "  [\n",
    "    layers.experimental.preprocessing.RandomFlip(\"horizontal\",input_shape=(224,224,3)),\n",
    "    layers.experimental.preprocessing.RandomRotation(0.1),\n",
    "    layers.experimental.preprocessing.RandomZoom(0.1),\n",
    "  ]\n",
    ")"
   ]
  },
  {
   "cell_type": "code",
   "execution_count": 13,
   "id": "b764df3e",
   "metadata": {
    "scrolled": true
   },
   "outputs": [],
   "source": [
    "model1 = Sequential([\n",
    "  data_augmentation,\n",
    "  layers.Conv2D(16, (3,3), 1, padding='same', activation='relu'),\n",
    "  layers.MaxPooling2D(pool_size=(2,2), strides=2),\n",
    "  layers.Conv2D(32, (3,3), 1, padding='same', activation='relu'),\n",
    "  layers.MaxPooling2D(pool_size=(2,2), strides=2),\n",
    "  layers.Conv2D(64, (3,3), 1, padding='same', activation='relu'),\n",
    "  layers.MaxPooling2D(pool_size=(2,2), strides=2),\n",
    "  layers.Dropout(0.2),\n",
    "  layers.Flatten(),\n",
    "  layers.Dense(256, activation='relu'),\n",
    "  layers.Dense(10, activation='softmax')\n",
    "])"
   ]
  },
  {
   "cell_type": "code",
   "execution_count": 14,
   "id": "f3bf733d",
   "metadata": {},
   "outputs": [
    {
     "name": "stdout",
     "output_type": "stream",
     "text": [
      "Model: \"sequential_3\"\n",
      "_________________________________________________________________\n",
      "Layer (type)                 Output Shape              Param #   \n",
      "=================================================================\n",
      "sequential_2 (Sequential)    (None, 224, 224, 3)       0         \n",
      "_________________________________________________________________\n",
      "conv2d_3 (Conv2D)            (None, 224, 224, 16)      448       \n",
      "_________________________________________________________________\n",
      "max_pooling2d_3 (MaxPooling2 (None, 112, 112, 16)      0         \n",
      "_________________________________________________________________\n",
      "conv2d_4 (Conv2D)            (None, 112, 112, 32)      4640      \n",
      "_________________________________________________________________\n",
      "max_pooling2d_4 (MaxPooling2 (None, 56, 56, 32)        0         \n",
      "_________________________________________________________________\n",
      "conv2d_5 (Conv2D)            (None, 56, 56, 64)        18496     \n",
      "_________________________________________________________________\n",
      "max_pooling2d_5 (MaxPooling2 (None, 28, 28, 64)        0         \n",
      "_________________________________________________________________\n",
      "dropout_1 (Dropout)          (None, 28, 28, 64)        0         \n",
      "_________________________________________________________________\n",
      "flatten_1 (Flatten)          (None, 50176)             0         \n",
      "_________________________________________________________________\n",
      "dense_2 (Dense)              (None, 256)               12845312  \n",
      "_________________________________________________________________\n",
      "dense_3 (Dense)              (None, 10)                2570      \n",
      "=================================================================\n",
      "Total params: 12,871,466\n",
      "Trainable params: 12,871,466\n",
      "Non-trainable params: 0\n",
      "_________________________________________________________________\n"
     ]
    }
   ],
   "source": [
    "model1.summary()"
   ]
  },
  {
   "cell_type": "code",
   "execution_count": 15,
   "id": "ecd6fbc7",
   "metadata": {},
   "outputs": [],
   "source": [
    "model1.compile(optimizer=Adam(learning_rate=0.0001), loss=\"categorical_crossentropy\", metrics=[\"accuracy\"])"
   ]
  },
  {
   "cell_type": "code",
   "execution_count": 16,
   "id": "51699087",
   "metadata": {
    "scrolled": true
   },
   "outputs": [
    {
     "name": "stdout",
     "output_type": "stream",
     "text": [
      "Epoch 1/50\n",
      "172/172 [==============================] - 22s 122ms/step - loss: 6.7146 - accuracy: 0.2190 - val_loss: 1.9179 - val_accuracy: 0.3633\n",
      "Epoch 2/50\n",
      "172/172 [==============================] - 5s 31ms/step - loss: 1.7412 - accuracy: 0.4060 - val_loss: 1.2849 - val_accuracy: 0.5300\n",
      "Epoch 3/50\n",
      "172/172 [==============================] - 5s 31ms/step - loss: 1.3851 - accuracy: 0.5298 - val_loss: 1.0384 - val_accuracy: 0.6200\n",
      "Epoch 4/50\n",
      "172/172 [==============================] - 5s 31ms/step - loss: 1.1439 - accuracy: 0.6133 - val_loss: 0.8652 - val_accuracy: 0.6333\n",
      "Epoch 5/50\n",
      "172/172 [==============================] - 5s 31ms/step - loss: 0.9982 - accuracy: 0.6653 - val_loss: 0.7007 - val_accuracy: 0.7400\n",
      "Epoch 6/50\n",
      "172/172 [==============================] - 5s 30ms/step - loss: 0.9122 - accuracy: 0.6881 - val_loss: 0.6791 - val_accuracy: 0.7433\n",
      "Epoch 7/50\n",
      "172/172 [==============================] - 5s 30ms/step - loss: 0.8041 - accuracy: 0.7225 - val_loss: 0.5719 - val_accuracy: 0.7967\n",
      "Epoch 8/50\n",
      "172/172 [==============================] - 5s 29ms/step - loss: 0.7018 - accuracy: 0.7541 - val_loss: 0.5824 - val_accuracy: 0.7767\n",
      "Epoch 9/50\n",
      "172/172 [==============================] - 5s 30ms/step - loss: 0.6281 - accuracy: 0.7891 - val_loss: 0.4891 - val_accuracy: 0.8367\n",
      "Epoch 10/50\n",
      "172/172 [==============================] - 5s 30ms/step - loss: 0.6149 - accuracy: 0.7985 - val_loss: 0.4991 - val_accuracy: 0.8367\n",
      "Epoch 11/50\n",
      "172/172 [==============================] - 5s 31ms/step - loss: 0.5873 - accuracy: 0.8026 - val_loss: 0.5339 - val_accuracy: 0.8267\n",
      "Epoch 12/50\n",
      "172/172 [==============================] - 5s 29ms/step - loss: 0.5202 - accuracy: 0.8289 - val_loss: 0.4764 - val_accuracy: 0.8333\n",
      "Epoch 13/50\n",
      "172/172 [==============================] - 5s 29ms/step - loss: 0.5249 - accuracy: 0.8178 - val_loss: 0.3860 - val_accuracy: 0.8700\n",
      "Epoch 14/50\n",
      "172/172 [==============================] - 5s 29ms/step - loss: 0.4787 - accuracy: 0.8364 - val_loss: 0.4151 - val_accuracy: 0.8500\n",
      "Epoch 15/50\n",
      "172/172 [==============================] - 5s 29ms/step - loss: 0.4411 - accuracy: 0.8493 - val_loss: 0.3875 - val_accuracy: 0.8467\n",
      "Epoch 16/50\n",
      "172/172 [==============================] - 5s 29ms/step - loss: 0.4288 - accuracy: 0.8598 - val_loss: 0.4117 - val_accuracy: 0.8667\n",
      "Epoch 17/50\n",
      "172/172 [==============================] - 5s 29ms/step - loss: 0.4000 - accuracy: 0.8680 - val_loss: 0.3177 - val_accuracy: 0.8767\n",
      "Epoch 18/50\n",
      "172/172 [==============================] - 5s 29ms/step - loss: 0.3955 - accuracy: 0.8645 - val_loss: 0.3163 - val_accuracy: 0.8900\n",
      "Epoch 19/50\n",
      "172/172 [==============================] - 5s 30ms/step - loss: 0.3624 - accuracy: 0.8849 - val_loss: 0.3530 - val_accuracy: 0.8900\n",
      "Epoch 20/50\n",
      "172/172 [==============================] - 5s 31ms/step - loss: 0.3378 - accuracy: 0.8843 - val_loss: 0.3692 - val_accuracy: 0.8600\n",
      "Epoch 21/50\n",
      "172/172 [==============================] - 5s 30ms/step - loss: 0.3766 - accuracy: 0.8738 - val_loss: 0.3189 - val_accuracy: 0.9000\n",
      "Epoch 22/50\n",
      "172/172 [==============================] - 7s 40ms/step - loss: 0.3423 - accuracy: 0.8744 - val_loss: 0.2904 - val_accuracy: 0.9067\n",
      "Epoch 23/50\n",
      "172/172 [==============================] - 6s 35ms/step - loss: 0.2764 - accuracy: 0.9100 - val_loss: 0.3330 - val_accuracy: 0.8867\n",
      "Epoch 24/50\n",
      "172/172 [==============================] - 6s 33ms/step - loss: 0.3023 - accuracy: 0.8966 - val_loss: 0.3535 - val_accuracy: 0.8833\n",
      "Epoch 25/50\n",
      "172/172 [==============================] - 5s 31ms/step - loss: 0.2861 - accuracy: 0.9124 - val_loss: 0.2906 - val_accuracy: 0.9067\n",
      "Epoch 26/50\n",
      "172/172 [==============================] - 5s 30ms/step - loss: 0.2699 - accuracy: 0.9223 - val_loss: 0.2729 - val_accuracy: 0.8900\n",
      "Epoch 27/50\n",
      "172/172 [==============================] - 5s 30ms/step - loss: 0.2840 - accuracy: 0.9077 - val_loss: 0.2924 - val_accuracy: 0.9000\n",
      "Epoch 28/50\n",
      "172/172 [==============================] - 5s 30ms/step - loss: 0.2598 - accuracy: 0.9106 - val_loss: 0.3595 - val_accuracy: 0.8667\n",
      "Epoch 29/50\n",
      "172/172 [==============================] - 6s 32ms/step - loss: 0.2296 - accuracy: 0.9322 - val_loss: 0.4661 - val_accuracy: 0.8700\n",
      "Epoch 30/50\n",
      "172/172 [==============================] - 5s 31ms/step - loss: 0.1884 - accuracy: 0.9422 - val_loss: 0.2598 - val_accuracy: 0.8933\n",
      "Epoch 31/50\n",
      "172/172 [==============================] - 5s 30ms/step - loss: 0.2143 - accuracy: 0.9188 - val_loss: 0.2903 - val_accuracy: 0.9033\n",
      "Epoch 32/50\n",
      "172/172 [==============================] - 5s 30ms/step - loss: 0.2202 - accuracy: 0.9270 - val_loss: 0.2880 - val_accuracy: 0.8967\n",
      "Epoch 33/50\n",
      "172/172 [==============================] - 5s 30ms/step - loss: 0.1826 - accuracy: 0.9369 - val_loss: 0.2903 - val_accuracy: 0.9067\n",
      "Epoch 34/50\n",
      "172/172 [==============================] - 5s 30ms/step - loss: 0.1821 - accuracy: 0.9387 - val_loss: 0.2224 - val_accuracy: 0.9333\n",
      "Epoch 35/50\n",
      "172/172 [==============================] - 5s 31ms/step - loss: 0.1848 - accuracy: 0.9422 - val_loss: 0.2812 - val_accuracy: 0.9133\n",
      "Epoch 36/50\n",
      "172/172 [==============================] - 5s 31ms/step - loss: 0.1862 - accuracy: 0.9433 - val_loss: 0.2758 - val_accuracy: 0.9200\n",
      "Epoch 37/50\n",
      "172/172 [==============================] - 5s 30ms/step - loss: 0.1865 - accuracy: 0.9246 - val_loss: 0.3171 - val_accuracy: 0.9000\n",
      "Epoch 38/50\n",
      "172/172 [==============================] - 5s 31ms/step - loss: 0.1675 - accuracy: 0.9544 - val_loss: 0.3525 - val_accuracy: 0.8967\n",
      "Epoch 39/50\n",
      "172/172 [==============================] - 5s 30ms/step - loss: 0.1862 - accuracy: 0.9451 - val_loss: 0.2617 - val_accuracy: 0.9100\n",
      "Epoch 40/50\n",
      "172/172 [==============================] - 5s 30ms/step - loss: 0.1485 - accuracy: 0.9515 - val_loss: 0.2709 - val_accuracy: 0.9267\n",
      "Epoch 41/50\n",
      "172/172 [==============================] - 5s 30ms/step - loss: 0.1570 - accuracy: 0.9509 - val_loss: 0.3023 - val_accuracy: 0.9100\n",
      "Epoch 42/50\n",
      "172/172 [==============================] - 5s 30ms/step - loss: 0.1440 - accuracy: 0.9509 - val_loss: 0.2718 - val_accuracy: 0.9167\n",
      "Epoch 43/50\n",
      "172/172 [==============================] - 5s 31ms/step - loss: 0.1351 - accuracy: 0.9579 - val_loss: 0.2592 - val_accuracy: 0.9267\n",
      "Epoch 44/50\n",
      "172/172 [==============================] - 5s 30ms/step - loss: 0.1400 - accuracy: 0.9527 - val_loss: 0.3800 - val_accuracy: 0.8867\n",
      "Epoch 45/50\n",
      "172/172 [==============================] - 5s 30ms/step - loss: 0.1516 - accuracy: 0.9533 - val_loss: 0.2644 - val_accuracy: 0.9267\n",
      "Epoch 46/50\n",
      "172/172 [==============================] - 5s 29ms/step - loss: 0.1013 - accuracy: 0.9685 - val_loss: 0.3738 - val_accuracy: 0.8867\n",
      "Epoch 47/50\n",
      "172/172 [==============================] - 5s 29ms/step - loss: 0.1105 - accuracy: 0.9632 - val_loss: 0.2875 - val_accuracy: 0.9000\n",
      "Epoch 48/50\n",
      "172/172 [==============================] - 5s 29ms/step - loss: 0.1116 - accuracy: 0.9667 - val_loss: 0.2352 - val_accuracy: 0.9167\n",
      "Epoch 49/50\n",
      "172/172 [==============================] - 5s 29ms/step - loss: 0.1205 - accuracy: 0.9533 - val_loss: 0.2679 - val_accuracy: 0.9100\n",
      "Epoch 50/50\n",
      "172/172 [==============================] - 5s 29ms/step - loss: 0.1262 - accuracy: 0.9574 - val_loss: 0.2583 - val_accuracy: 0.9233\n"
     ]
    }
   ],
   "source": [
    "hist1 = model1.fit(train_batches, validation_data=valid_batches, shuffle=True, batch_size=5 , epochs=50)"
   ]
  },
  {
   "cell_type": "code",
   "execution_count": 17,
   "id": "93b2a306",
   "metadata": {},
   "outputs": [
    {
     "data": {
      "text/plain": [
       "[<matplotlib.lines.Line2D at 0x1e452bb7850>]"
      ]
     },
     "execution_count": 17,
     "metadata": {},
     "output_type": "execute_result"
    },
    {
     "data": {
      "image/png": "[encoded data removed]",
      "text/plain": [
       "<Figure size 432x288 with 1 Axes>"
      ]
     },
     "metadata": {
      "needs_background": "light"
     },
     "output_type": "display_data"
    }
   ],
   "source": [
    "plt.plot(hist1.history[\"accuracy\"])\n",
    "plt.plot(hist1.history[\"val_accuracy\"])"
   ]
  },
  {
   "cell_type": "code",
   "execution_count": 18,
   "id": "579d3c90",
   "metadata": {},
   "outputs": [
    {
     "data": {
      "text/plain": [
       "[<matplotlib.lines.Line2D at 0x1e452c5ef70>]"
      ]
     },
     "execution_count": 18,
     "metadata": {},
     "output_type": "execute_result"
    },
    {
     "data": {
      "image/png": "[encoded data removed]",
      "text/plain": [
       "<Figure size 432x288 with 1 Axes>"
      ]
     },
     "metadata": {
      "needs_background": "light"
     },
     "output_type": "display_data"
    }
   ],
   "source": [
    "plt.plot(hist1.history[\"loss\"])\n",
    "plt.plot(hist1.history[\"val_accuracy\"])"
   ]
  },
  {
   "cell_type": "code",
   "execution_count": 19,
   "id": "4efa3606",
   "metadata": {},
   "outputs": [
    {
     "data": {
      "text/plain": [
       "[0, 0, 0, 0, 0, 1, 1, 1, 1, 1]"
      ]
     },
     "execution_count": 19,
     "metadata": {},
     "output_type": "execute_result"
    }
   ],
   "source": [
    "pred = model1.predict(test_batches)\n",
    "y_classes = [np.argmax(i) for i in pred]\n",
    "y_classes[:10]"
   ]
  },
  {
   "cell_type": "code",
   "execution_count": 20,
   "id": "0ca7e5db",
   "metadata": {},
   "outputs": [],
   "source": [
    "def plot_confusion_matrix(cm, classes,\n",
    "                          normalize=False,\n",
    "                          title='Confusion matrix',\n",
    "                          cmap=plt.cm.Blues):\n",
    "    \"\"\"\n",
    "    This function prints and plots the confusion matrix.\n",
    "    Normalization can be applied by setting `normalize=True`.\n",
    "    \"\"\"\n",
    "    plt.imshow(cm, interpolation='nearest', cmap=cmap)\n",
    "    plt.title(title)\n",
    "    plt.colorbar()\n",
    "    tick_marks = np.arange(len(classes))\n",
    "    plt.xticks(tick_marks, classes, rotation=45)\n",
    "    plt.yticks(tick_marks, classes)\n",
    "\n",
    "    if normalize:\n",
    "        cm = cm.astype('float') / cm.sum(axis=1)[:, np.newaxis]\n",
    "        print(\"Normalized confusion matrix\")\n",
    "    else:\n",
    "        print('Confusion matrix, without normalization')\n",
    "\n",
    "    print(cm)\n",
    "\n",
    "    thresh = cm.max() / 2.\n",
    "    for i, j in itertools.product(range(cm.shape[0]), range(cm.shape[1])):\n",
    "        plt.text(j, i, cm[i, j],\n",
    "                 horizontalalignment=\"center\",\n",
    "                 color=\"white\" if cm[i, j] > thresh else \"black\")\n",
    "\n",
    "    plt.tight_layout()\n",
    "    plt.ylabel('True label')\n",
    "    plt.xlabel('Predicted label')"
   ]
  },
  {
   "cell_type": "code",
   "execution_count": 21,
   "id": "93fda88d",
   "metadata": {},
   "outputs": [
    {
     "data": {
      "text/plain": [
       "{'A0': 0,\n",
       " 'A1': 1,\n",
       " 'A2': 2,\n",
       " 'A3': 3,\n",
       " 'A4': 4,\n",
       " 'A5': 5,\n",
       " 'A6': 6,\n",
       " 'A7': 7,\n",
       " 'A8': 8,\n",
       " 'A9': 9}"
      ]
     },
     "execution_count": 21,
     "metadata": {},
     "output_type": "execute_result"
    }
   ],
   "source": [
    "test_batches.class_indices"
   ]
  },
  {
   "cell_type": "code",
   "execution_count": 22,
   "id": "914608ed",
   "metadata": {},
   "outputs": [
    {
     "name": "stdout",
     "output_type": "stream",
     "text": [
      "Confusion matrix, without normalization\n",
      "[[5 0 0 0 0 0 0 0 0 0]\n",
      " [0 5 0 0 0 0 0 0 0 0]\n",
      " [0 0 5 0 0 0 0 0 0 0]\n",
      " [0 0 0 4 0 0 0 0 1 0]\n",
      " [0 0 0 0 4 1 0 0 0 0]\n",
      " [0 0 0 0 0 5 0 0 0 0]\n",
      " [0 0 0 0 0 0 4 1 0 0]\n",
      " [0 0 1 0 0 0 0 3 1 0]\n",
      " [0 0 0 0 0 0 0 0 5 0]\n",
      " [0 0 0 0 0 0 0 0 0 5]]\n"
     ]
    },
    {
     "data": {
      "image/png": "[encoded data removed]",
      "text/plain": [
       "<Figure size 432x288 with 2 Axes>"
      ]
     },
     "metadata": {
      "needs_background": "light"
     },
     "output_type": "display_data"
    }
   ],
   "source": [
    "cm = confusion_matrix(y_true=test_batches.classes, y_pred=np.argmax(pred, axis=1))\n",
    "plot_confusion_matrix(cm=cm, classes=[0,1,2,3,4,5,6,7,8,9])"
   ]
  },
  {
   "cell_type": "markdown",
   "id": "c6fb8ee7",
   "metadata": {},
   "source": [
    "**VGG16 Model**"
   ]
  },
  {
   "cell_type": "code",
   "execution_count": 23,
   "id": "506860c8",
   "metadata": {},
   "outputs": [],
   "source": [
    "vgg16_model = tf.keras.applications.vgg16.VGG16()"
   ]
  },
  {
   "cell_type": "code",
   "execution_count": 24,
   "id": "5b83bb9d",
   "metadata": {},
   "outputs": [],
   "source": [
    "model2 = Sequential()\n",
    "for layer in vgg16_model.layers[:-1]:\n",
    "    model2.add(layer)\n",
    "    \n",
    "for layer in model2.layers:\n",
    "    layer.trainable = False\n",
    "    \n",
    "model2.add(Dense(units=10, activation=\"softmax\"))"
   ]
  },
  {
   "cell_type": "code",
   "execution_count": 25,
   "id": "280ef25c",
   "metadata": {
    "scrolled": true
   },
   "outputs": [
    {
     "name": "stdout",
     "output_type": "stream",
     "text": [
      "Model: \"sequential_4\"\n",
      "_________________________________________________________________\n",
      "Layer (type)                 Output Shape              Param #   \n",
      "=================================================================\n",
      "block1_conv1 (Conv2D)        (None, 224, 224, 64)      1792      \n",
      "_________________________________________________________________\n",
      "block1_conv2 (Conv2D)        (None, 224, 224, 64)      36928     \n",
      "_________________________________________________________________\n",
      "block1_pool (MaxPooling2D)   (None, 112, 112, 64)      0         \n",
      "_________________________________________________________________\n",
      "block2_conv1 (Conv2D)        (None, 112, 112, 128)     73856     \n",
      "_________________________________________________________________\n",
      "block2_conv2 (Conv2D)        (None, 112, 112, 128)     147584    \n",
      "_________________________________________________________________\n",
      "block2_pool (MaxPooling2D)   (None, 56, 56, 128)       0         \n",
      "_________________________________________________________________\n",
      "block3_conv1 (Conv2D)        (None, 56, 56, 256)       295168    \n",
      "_________________________________________________________________\n",
      "block3_conv2 (Conv2D)        (None, 56, 56, 256)       590080    \n",
      "_________________________________________________________________\n",
      "block3_conv3 (Conv2D)        (None, 56, 56, 256)       590080    \n",
      "_________________________________________________________________\n",
      "block3_pool (MaxPooling2D)   (None, 28, 28, 256)       0         \n",
      "_________________________________________________________________\n",
      "block4_conv1 (Conv2D)        (None, 28, 28, 512)       1180160   \n",
      "_________________________________________________________________\n",
      "block4_conv2 (Conv2D)        (None, 28, 28, 512)       2359808   \n",
      "_________________________________________________________________\n",
      "block4_conv3 (Conv2D)        (None, 28, 28, 512)       2359808   \n",
      "_________________________________________________________________\n",
      "block4_pool (MaxPooling2D)   (None, 14, 14, 512)       0         \n",
      "_________________________________________________________________\n",
      "block5_conv1 (Conv2D)        (None, 14, 14, 512)       2359808   \n",
      "_________________________________________________________________\n",
      "block5_conv2 (Conv2D)        (None, 14, 14, 512)       2359808   \n",
      "_________________________________________________________________\n",
      "block5_conv3 (Conv2D)        (None, 14, 14, 512)       2359808   \n",
      "_________________________________________________________________\n",
      "block5_pool (MaxPooling2D)   (None, 7, 7, 512)         0         \n",
      "_________________________________________________________________\n",
      "flatten (Flatten)            (None, 25088)             0         \n",
      "_________________________________________________________________\n",
      "fc1 (Dense)                  (None, 4096)              102764544 \n",
      "_________________________________________________________________\n",
      "fc2 (Dense)                  (None, 4096)              16781312  \n",
      "_________________________________________________________________\n",
      "dense_4 (Dense)              (None, 10)                40970     \n",
      "=================================================================\n",
      "Total params: 134,301,514\n",
      "Trainable params: 40,970\n",
      "Non-trainable params: 134,260,544\n",
      "_________________________________________________________________\n"
     ]
    }
   ],
   "source": [
    "model2.summary()"
   ]
  },
  {
   "cell_type": "code",
   "execution_count": 26,
   "id": "ad87286b",
   "metadata": {},
   "outputs": [],
   "source": [
    "model2.compile(optimizer=Adam(learning_rate=0.0001), loss=\"categorical_crossentropy\", metrics=[\"accuracy\"])"
   ]
  },
  {
   "cell_type": "code",
   "execution_count": 27,
   "id": "53b181f0",
   "metadata": {
    "scrolled": true
   },
   "outputs": [
    {
     "name": "stdout",
     "output_type": "stream",
     "text": [
      "Epoch 1/29\n",
      "172/172 [==============================] - 28s 141ms/step - loss: 1.5198 - accuracy: 0.4889 - val_loss: 0.9911 - val_accuracy: 0.6967\n",
      "Epoch 2/29\n",
      "172/172 [==============================] - 23s 135ms/step - loss: 0.7813 - accuracy: 0.7629 - val_loss: 0.7169 - val_accuracy: 0.8000\n",
      "Epoch 3/29\n",
      "172/172 [==============================] - 24s 137ms/step - loss: 0.5769 - accuracy: 0.8400 - val_loss: 0.5852 - val_accuracy: 0.8167\n",
      "Epoch 4/29\n",
      "172/172 [==============================] - 24s 138ms/step - loss: 0.4683 - accuracy: 0.8756 - val_loss: 0.5045 - val_accuracy: 0.8567\n",
      "Epoch 5/29\n",
      "172/172 [==============================] - 23s 136ms/step - loss: 0.3964 - accuracy: 0.9019 - val_loss: 0.4484 - val_accuracy: 0.8600\n",
      "Epoch 6/29\n",
      "172/172 [==============================] - 23s 134ms/step - loss: 0.3466 - accuracy: 0.9095 - val_loss: 0.4141 - val_accuracy: 0.8767\n",
      "Epoch 7/29\n",
      "172/172 [==============================] - 24s 140ms/step - loss: 0.3044 - accuracy: 0.9282 - val_loss: 0.3801 - val_accuracy: 0.8933\n",
      "Epoch 8/29\n",
      "172/172 [==============================] - 23s 134ms/step - loss: 0.2677 - accuracy: 0.9428 - val_loss: 0.3492 - val_accuracy: 0.8933\n",
      "Epoch 9/29\n",
      "172/172 [==============================] - 23s 135ms/step - loss: 0.2397 - accuracy: 0.9579 - val_loss: 0.3419 - val_accuracy: 0.8933\n",
      "Epoch 10/29\n",
      "172/172 [==============================] - 24s 137ms/step - loss: 0.2210 - accuracy: 0.9644 - val_loss: 0.3221 - val_accuracy: 0.8933\n",
      "Epoch 11/29\n",
      "172/172 [==============================] - 23s 136ms/step - loss: 0.2010 - accuracy: 0.9638 - val_loss: 0.3095 - val_accuracy: 0.9067\n",
      "Epoch 12/29\n",
      "172/172 [==============================] - 24s 138ms/step - loss: 0.1804 - accuracy: 0.9737 - val_loss: 0.2982 - val_accuracy: 0.9067\n",
      "Epoch 13/29\n",
      "172/172 [==============================] - 23s 135ms/step - loss: 0.1701 - accuracy: 0.9755 - val_loss: 0.2917 - val_accuracy: 0.9033\n",
      "Epoch 14/29\n",
      "172/172 [==============================] - 23s 135ms/step - loss: 0.1529 - accuracy: 0.9807 - val_loss: 0.2682 - val_accuracy: 0.9033\n",
      "Epoch 15/29\n",
      "172/172 [==============================] - 23s 135ms/step - loss: 0.1437 - accuracy: 0.9790 - val_loss: 0.2729 - val_accuracy: 0.9000\n",
      "Epoch 16/29\n",
      "172/172 [==============================] - 23s 135ms/step - loss: 0.1316 - accuracy: 0.9836 - val_loss: 0.2671 - val_accuracy: 0.9100\n",
      "Epoch 17/29\n",
      "172/172 [==============================] - 24s 137ms/step - loss: 0.1250 - accuracy: 0.9848 - val_loss: 0.2590 - val_accuracy: 0.9067\n",
      "Epoch 18/29\n",
      "172/172 [==============================] - 24s 137ms/step - loss: 0.1139 - accuracy: 0.9860 - val_loss: 0.2445 - val_accuracy: 0.9100\n",
      "Epoch 19/29\n",
      "172/172 [==============================] - 23s 135ms/step - loss: 0.1072 - accuracy: 0.9901 - val_loss: 0.2359 - val_accuracy: 0.9200\n",
      "Epoch 20/29\n",
      "172/172 [==============================] - 24s 137ms/step - loss: 0.0984 - accuracy: 0.9924 - val_loss: 0.2384 - val_accuracy: 0.9067\n",
      "Epoch 21/29\n",
      "172/172 [==============================] - 24s 139ms/step - loss: 0.0929 - accuracy: 0.9912 - val_loss: 0.2316 - val_accuracy: 0.9133\n",
      "Epoch 22/29\n",
      "172/172 [==============================] - 24s 139ms/step - loss: 0.0847 - accuracy: 0.9936 - val_loss: 0.2240 - val_accuracy: 0.9300\n",
      "Epoch 23/29\n",
      "172/172 [==============================] - 24s 139ms/step - loss: 0.0797 - accuracy: 0.9953 - val_loss: 0.2358 - val_accuracy: 0.9100\n",
      "Epoch 24/29\n",
      "172/172 [==============================] - 24s 138ms/step - loss: 0.0770 - accuracy: 0.9936 - val_loss: 0.2236 - val_accuracy: 0.9200\n",
      "Epoch 25/29\n",
      "172/172 [==============================] - 23s 136ms/step - loss: 0.0690 - accuracy: 0.9953 - val_loss: 0.2153 - val_accuracy: 0.9233\n",
      "Epoch 26/29\n",
      "172/172 [==============================] - 23s 136ms/step - loss: 0.0651 - accuracy: 0.9959 - val_loss: 0.2137 - val_accuracy: 0.9267\n",
      "Epoch 27/29\n",
      "172/172 [==============================] - 24s 140ms/step - loss: 0.0627 - accuracy: 0.9959 - val_loss: 0.2129 - val_accuracy: 0.9267\n",
      "Epoch 28/29\n",
      "172/172 [==============================] - 24s 137ms/step - loss: 0.0576 - accuracy: 0.9971 - val_loss: 0.2069 - val_accuracy: 0.9200\n",
      "Epoch 29/29\n",
      "172/172 [==============================] - 24s 138ms/step - loss: 0.0543 - accuracy: 0.9982 - val_loss: 0.2085 - val_accuracy: 0.9200\n"
     ]
    }
   ],
   "source": [
    "hist2 = model2.fit(x=train_batches, validation_data=valid_batches, shuffle=True, batch_size=5 , epochs=29)"
   ]
  },
  {
   "cell_type": "code",
   "execution_count": 28,
   "id": "cb0c8384",
   "metadata": {},
   "outputs": [
    {
     "data": {
      "text/plain": [
       "[<matplotlib.lines.Line2D at 0x1e455601ca0>]"
      ]
     },
     "execution_count": 28,
     "metadata": {},
     "output_type": "execute_result"
    },
    {
     "data": {
      "image/png": "[encoded data removed]",
      "text/plain": [
       "<Figure size 432x288 with 1 Axes>"
      ]
     },
     "metadata": {
      "needs_background": "light"
     },
     "output_type": "display_data"
    }
   ],
   "source": [
    "plt.plot(hist2.history[\"accuracy\"])\n",
    "plt.plot(hist2.history[\"val_accuracy\"])"
   ]
  },
  {
   "cell_type": "code",
   "execution_count": 29,
   "id": "debd3d20",
   "metadata": {},
   "outputs": [
    {
     "data": {
      "text/plain": [
       "[<matplotlib.lines.Line2D at 0x1e45566b7c0>]"
      ]
     },
     "execution_count": 29,
     "metadata": {},
     "output_type": "execute_result"
    },
    {
     "data": {
      "image/png": "[encoded data removed]",
      "text/plain": [
       "<Figure size 432x288 with 1 Axes>"
      ]
     },
     "metadata": {
      "needs_background": "light"
     },
     "output_type": "display_data"
    }
   ],
   "source": [
    "plt.plot(hist2.history[\"loss\"])\n",
    "plt.plot(hist2.history[\"val_accuracy\"])"
   ]
  },
  {
   "cell_type": "code",
   "execution_count": 30,
   "id": "e0021aef",
   "metadata": {},
   "outputs": [
    {
     "data": {
      "text/plain": [
       "[0, 0, 0, 0, 0, 1, 1, 1, 1, 1]"
      ]
     },
     "execution_count": 30,
     "metadata": {},
     "output_type": "execute_result"
    }
   ],
   "source": [
    "pred = model2.predict(test_batches)\n",
    "y_classes = [np.argmax(i) for i in pred]\n",
    "y_classes[:10]"
   ]
  },
  {
   "cell_type": "code",
   "execution_count": 31,
   "id": "e81d1c83",
   "metadata": {},
   "outputs": [
    {
     "name": "stdout",
     "output_type": "stream",
     "text": [
      "Confusion matrix, without normalization\n",
      "[[5 0 0 0 0 0 0 0 0 0]\n",
      " [0 5 0 0 0 0 0 0 0 0]\n",
      " [0 0 5 0 0 0 0 0 0 0]\n",
      " [0 0 0 5 0 0 0 0 0 0]\n",
      " [0 0 0 0 4 0 1 0 0 0]\n",
      " [0 0 0 0 0 5 0 0 0 0]\n",
      " [0 0 0 0 0 0 5 0 0 0]\n",
      " [0 0 0 0 0 0 0 5 0 0]\n",
      " [0 0 0 0 0 0 0 2 3 0]\n",
      " [0 0 0 0 0 0 0 0 1 4]]\n"
     ]
    },
    {
     "data": {
      "image/png": "[encoded data removed]",
      "text/plain": [
       "<Figure size 432x288 with 2 Axes>"
      ]
     },
     "metadata": {
      "needs_background": "light"
     },
     "output_type": "display_data"
    }
   ],
   "source": [
    "cm = confusion_matrix(y_true=test_batches.classes, y_pred=y_classes)\n",
    "plot_confusion_matrix(cm=cm, classes=[0,1,2,3,4,5,6,7,8,9])"
   ]
  },
  {
   "cell_type": "code",
   "execution_count": 32,
   "id": "a7d58cb9",
   "metadata": {},
   "outputs": [],
   "source": [
    "# def predict():\n",
    "#     cap = cv2.VideoCapture(0)\n",
    "\n",
    "#     if cap.isOpened():\n",
    "#         ret, frame = cap.read()\n",
    "#     img = cv2.cvtColor(frame, cv2.COLOR_BGR2RGB)\n",
    "#     #img = cv2.imread(img1)\n",
    "#     plt.imshow(img)\n",
    "#     plt.show()\n",
    "#     #resize = tf.image.resize(img, (50,50))\n",
    "#     resize = cv2.resize(img, (224,224))\n",
    "#     #print(np.expand_dims(resize,0).shape)\n",
    "#     pred = model1.predict(np.expand_dims(resize/255,0))\n",
    "#     print(pred)\n",
    "#     y_classes = np.argmax(pred)\n",
    "#     print(y_classes)"
   ]
  },
  {
   "cell_type": "code",
   "execution_count": 33,
   "id": "f45731df",
   "metadata": {},
   "outputs": [],
   "source": [
    "# predict()"
   ]
  },
  {
   "cell_type": "code",
   "execution_count": null,
   "id": "5873ea9b",
   "metadata": {},
   "outputs": [],
   "source": []
  }
 ],
 "metadata": {
  "kernelspec": {
   "display_name": "Python 3 (ipykernel)",
   "language": "python",
   "name": "python3"
  },
  "language_info": {
   "codemirror_mode": {
    "name": "ipython",
    "version": 3
   },
   "file_extension": ".py",
   "mimetype": "text/x-python",
   "name": "python",
   "nbconvert_exporter": "python",
   "pygments_lexer": "ipython3",
   "version": "3.9.12"
  }
 },
 "nbformat": 4,
 "nbformat_minor": 5
}
