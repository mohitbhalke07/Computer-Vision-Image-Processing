{
 "cells": [
  {
   "cell_type": "code",
   "execution_count": 82,
   "id": "05ca3bfe",
   "metadata": {},
   "outputs": [],
   "source": [
    "import cv2\n",
    "import pytesseract\n",
    "import numpy as np"
   ]
  },
  {
   "cell_type": "code",
   "execution_count": 83,
   "id": "6cc5b41d",
   "metadata": {},
   "outputs": [],
   "source": [
    "pytesseract.pytesseract.tesseract_cmd = r'C:\\Program Files\\Tesseract-OCR\\tesseract.exe'"
   ]
  },
  {
   "cell_type": "code",
   "execution_count": 84,
   "id": "d56a9512",
   "metadata": {},
   "outputs": [],
   "source": [
    "cascade= cv2.CascadeClassifier(\"haarcascade_russian_plate_number.xml\")"
   ]
  },
  {
   "cell_type": "code",
   "execution_count": 85,
   "id": "af7f03ca",
   "metadata": {},
   "outputs": [],
   "source": [
    "states={\"AN\":\"Andaman and Nicobar\",\"AP\":\"Andhra Pradesh\",\"AR\":\"Arunachal Pradesh\",\"AS\":\"Assam\",\"BR\":\"Bihar\",\"CH\":\"Chandigarh\",\"DN\":\"Dadra and Nagar Haveli\",\"DD\":\"Daman and Diu\",\"DL\":\"Delhi\",\"GA\":\"Goa\",\"GJ\":\"Gujarat\",\n",
    "\"HR\":\"Haryana\",\"HP\":\"Himachal Pradesh\",\"JK\":\"Jammu and Kashmir\",\"KA\":\"Karnataka\",\"KL\":\"Kerala\",\"LD\":\"Lakshadweep\",\n",
    "        \"MP\":\"Madhya Pradesh\",\"MH\":\"Maharashtra\",\"MN\":\"Manipur\",\"ML\":\"Meghalaya\",\"MZ\":\"Mizoram\",\"NL\":\"Nagaland\",\n",
    "        \"OD\":\"Odissa\",\"PY\":\"Pondicherry\",\"PN\":\"Punjab\",\"RJ\":\"Rajasthan\",\"SK\":\"Sikkim\",\"TN\":\"TamilNadu\",\"TR\":\"Tripura\",\n",
    "        \"UP\":\"Uttar Pradesh\", \"WB\":\"West Bengal\",\"CG\":\"Chhattisgarh\",\"TS\":\"Telangana\",\"JH\":\"Jharkhand\",\"UK\":\"Uttarakhand\"}"
   ]
  },
  {
   "cell_type": "code",
   "execution_count": 86,
   "id": "140314af",
   "metadata": {},
   "outputs": [
    {
     "name": "stdout",
     "output_type": "stream",
     "text": [
      "HR260K7559\n",
      "Car Belongs to Haryana\n"
     ]
    }
   ],
   "source": [
    "def extract_num(img_name):\n",
    "    img = cv2.imread(img_name) ## Reading Image\n",
    "    # Converting into Gray\n",
    "    gray = cv2.cvtColor(img,cv2.COLOR_BGR2GRAY) \n",
    "    # Detecting plate\n",
    "    nplate = cascade.detectMultiScale(gray,1.1,4)\n",
    "    for (x,y,w,h) in nplate:\n",
    "        # Crop a portion of plate\n",
    "        a,b = (int(0.02*img.shape[0]), int(0.025*img.shape[1]))\n",
    "        plate = img[y+a:y+h-a, x+b:x+w-b, :]\n",
    "        # make image more darker to identify the LPR\n",
    "        ## iMAGE PROCESSING\n",
    "        kernel = np.ones((1, 1), np.uint8)\n",
    "        plate = cv2.dilate(plate, kernel, iterations=1)\n",
    "        plate = cv2.erode(plate, kernel, iterations=1)\n",
    "        plate_gray = cv2.cvtColor(plate,cv2.COLOR_BGR2GRAY)\n",
    "        (thresh, plate) = cv2.threshold(plate_gray, 127, 255, cv2.THRESH_BINARY)\n",
    "        # Feed Image to OCR engine\n",
    "        read = pytesseract.image_to_string(plate)\n",
    "        number_plate = ''.join(e for e in read if e.isalnum())\n",
    "        print(number_plate)\n",
    "        stat = read[0:2]\n",
    "        try:\n",
    "        # Fetch the State information\n",
    "            print('Car Belongs to',states[stat])\n",
    "            car_state = states[stat]\n",
    "        except:\n",
    "            print('State not recognised!!')\n",
    "        #print(read)\n",
    "        cv2.rectangle(img, (x,y), (x+w, y+h), (51,51,255), 2)\n",
    "        cv2.rectangle(img, (x, y - 40), (x + w, y),(51,51,255) , -1)\n",
    "        cv2.putText(img,number_plate, (x, y - 10), cv2.FONT_HERSHEY_SIMPLEX, 0.7, (255, 255, 255), 2)\n",
    "        #cv2.imshow('Plate',plate)\n",
    "        # Save & display result image\n",
    "        #cv2.imwrite('plate.jpg', plate)\n",
    "    \n",
    "    text1 = \"Number Plate: \" + number_plate\n",
    "    text2 = \"Car Belongs to: \" + car_state\n",
    "    cv2.putText(img, text1,(0,25),cv2.FONT_HERSHEY_SIMPLEX,0.9,(255,255,255))\n",
    "    cv2.putText(img, text2,(0,50),cv2.FONT_HERSHEY_SIMPLEX,0.9,(255,255,255))\n",
    "    cv2.imshow(\"Result\", img)\n",
    "    cv2.imwrite('result.jpg',img)\n",
    "    cv2.waitKey(0)\n",
    "    cv2.destroyAllWindows()\n",
    "    \n",
    "# Let's make a function call\n",
    "extract_num(\"maruti car.jpeg\")"
   ]
  },
  {
   "cell_type": "code",
   "execution_count": null,
   "id": "9d59bd2d",
   "metadata": {},
   "outputs": [],
   "source": []
  },
  {
   "cell_type": "code",
   "execution_count": null,
   "id": "c7da0254",
   "metadata": {},
   "outputs": [],
   "source": []
  }
 ],
 "metadata": {
  "kernelspec": {
   "display_name": "Python 3",
   "language": "python",
   "name": "python3"
  },
  "language_info": {
   "codemirror_mode": {
    "name": "ipython",
    "version": 3
   },
   "file_extension": ".py",
   "mimetype": "text/x-python",
   "name": "python",
   "nbconvert_exporter": "python",
   "pygments_lexer": "ipython3",
   "version": "3.8.8"
  }
 },
 "nbformat": 4,
 "nbformat_minor": 5
}
